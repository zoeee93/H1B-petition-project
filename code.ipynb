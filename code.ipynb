{
 "cells": [
  {
   "cell_type": "markdown",
   "metadata": {},
   "source": [
    "# H1-B Visa Petitions"
   ]
  },
  {
   "cell_type": "markdown",
   "metadata": {},
   "source": [
    "### Xun Zhou <br>  <br> 661966819 "
   ]
  },
  {
   "cell_type": "markdown",
   "metadata": {},
   "source": [
    "## 1. Introductoion"
   ]
  },
  {
   "cell_type": "markdown",
   "metadata": {},
   "source": [
    "The H1-B visa is an employment-based, non-immigrant visa category which allows foreigners to work legally in the United States at a company in a specialty occupation such as medicine, economics, computing, business and so on. It is usually applied for and held by international students with at least a bachelor's degree and work in a full time job.  \n",
    "\n",
    "As an international student, I am interested in the H1-B petition process by nature. I would like to know what kind of job is more likely to be certified with H1b, which company is more willing to provide H1b sponsor, and in which states or cities were the foreigners able to find jobs?  \n",
    "\n",
    "Moreover, this report is trying to identify the important factors that may affect the final status of H1-B Visa petitions, and predict the final status of the H1-B Visa petitions using various features. In this way, it provides a probability for both applicants and employers to predict the chances of being certified with H1-B visa and what aspects they should improve to increase their chances.  \n",
    "\n",
    "This report will then be followed by four sections: Data Description; Analysis; Model Development and Application of model(s); Conclusions and Discussioning."
   ]
  },
  {
   "cell_type": "markdown",
   "metadata": {},
   "source": [
    "## 2. Data Description"
   ]
  },
  {
   "cell_type": "markdown",
   "metadata": {},
   "source": [
    "This dataset comes from Kaggle. (https://www.kaggle.com/nsharan/h-1b-visa)\n",
    "\n",
    "This dataset includes H-1B petitions data from 2011 to 2016 with 10 variables and about 3 million observations overall. Since this report is trying to predict whether the H1-B petition would be certified or not based on diverse features, the target variable would be the case status. And other 9 variables are listed as follow:\n",
    "\n",
    "* Name of the employer: Name of employer sponsoring the H1-B visa.\n",
    "* SOC Name：Occupational name along with the SOC code.\n",
    "* Job title: Job title being requested. \n",
    "* Full time position: Where Y indicates a full time employment and N indicates a part time position.\n",
    "* Prevailing wage: The annual prevailing wage for the requested occupation in USD amount.\n",
    "* Year: Year when the H1-B visa petition was filed.\n",
    "* Worksite: City and State information of this applicant's intended work region.\n",
    "* Longitude: The longtitude of the corresponding worksite.\n",
    "* Latitude: The latitude of the corresponding worksite.\n",
    "\n",
    "Originally, the target variable - case status - has 7 levels as shown in plot 'THE DISTRIBUTION OF CASE STATUS'. But I will only consider the 'Certified' and 'Denied' ones."
   ]
  },
  {
   "cell_type": "code",
   "execution_count": 1,
   "metadata": {},
   "outputs": [
    {
     "name": "stderr",
     "output_type": "stream",
     "text": [
      "/anaconda3/lib/python3.6/site-packages/sklearn/ensemble/weight_boosting.py:29: DeprecationWarning: numpy.core.umath_tests is an internal NumPy module and should not be imported. It will be removed in a future NumPy release.\n",
      "  from numpy.core.umath_tests import inner1d\n"
     ]
    }
   ],
   "source": [
    "import pandas as pd\n",
    "import numpy as np\n",
    "import difflib as dff\n",
    "from sklearn import tree \n",
    "from sklearn import svm \n",
    "import sklearn.linear_model as linear_model \n",
    "from sklearn.ensemble import RandomForestClassifier \n",
    "from sklearn.neural_network import MLPClassifier \n",
    "from sklearn.naive_bayes import GaussianNB\n",
    "from sklearn.feature_selection import RFE\n",
    "from sklearn.linear_model import LogisticRegression\n",
    "from sklearn.model_selection import train_test_split\n",
    "import sklearn.metrics as metrics\n",
    "from sklearn import preprocessing\n",
    "import matplotlib.pyplot as plt\n",
    "from sklearn.metrics import accuracy_score, precision_score, fbeta_score, recall_score, classification_report\n",
    "%matplotlib inline"
   ]
  },
  {
   "cell_type": "code",
   "execution_count": 2,
   "metadata": {},
   "outputs": [],
   "source": [
    "h1b = pd.read_csv('../project/h1b_kaggle.csv')\n",
    "h1b = h1b.loc[:, ~h1b.columns.str.contains('^Unnamed')]"
   ]
  },
  {
   "cell_type": "code",
   "execution_count": 3,
   "metadata": {},
   "outputs": [
    {
     "data": {
      "text/html": [
       "<div>\n",
       "<style scoped>\n",
       "    .dataframe tbody tr th:only-of-type {\n",
       "        vertical-align: middle;\n",
       "    }\n",
       "\n",
       "    .dataframe tbody tr th {\n",
       "        vertical-align: top;\n",
       "    }\n",
       "\n",
       "    .dataframe thead th {\n",
       "        text-align: right;\n",
       "    }\n",
       "</style>\n",
       "<table border=\"1\" class=\"dataframe\">\n",
       "  <thead>\n",
       "    <tr style=\"text-align: right;\">\n",
       "      <th></th>\n",
       "      <th>CASE_STATUS</th>\n",
       "      <th>EMPLOYER_NAME</th>\n",
       "      <th>SOC_NAME</th>\n",
       "      <th>JOB_TITLE</th>\n",
       "      <th>FULL_TIME_POSITION</th>\n",
       "      <th>PREVAILING_WAGE</th>\n",
       "      <th>YEAR</th>\n",
       "      <th>WORKSITE</th>\n",
       "      <th>lon</th>\n",
       "      <th>lat</th>\n",
       "    </tr>\n",
       "  </thead>\n",
       "  <tbody>\n",
       "    <tr>\n",
       "      <th>0</th>\n",
       "      <td>CERTIFIED-WITHDRAWN</td>\n",
       "      <td>UNIVERSITY OF MICHIGAN</td>\n",
       "      <td>BIOCHEMISTS AND BIOPHYSICISTS</td>\n",
       "      <td>POSTDOCTORAL RESEARCH FELLOW</td>\n",
       "      <td>N</td>\n",
       "      <td>36067.0</td>\n",
       "      <td>2016.0</td>\n",
       "      <td>ANN ARBOR, MICHIGAN</td>\n",
       "      <td>-83.743038</td>\n",
       "      <td>42.280826</td>\n",
       "    </tr>\n",
       "    <tr>\n",
       "      <th>1</th>\n",
       "      <td>CERTIFIED-WITHDRAWN</td>\n",
       "      <td>GOODMAN NETWORKS, INC.</td>\n",
       "      <td>CHIEF EXECUTIVES</td>\n",
       "      <td>CHIEF OPERATING OFFICER</td>\n",
       "      <td>Y</td>\n",
       "      <td>242674.0</td>\n",
       "      <td>2016.0</td>\n",
       "      <td>PLANO, TEXAS</td>\n",
       "      <td>-96.698886</td>\n",
       "      <td>33.019843</td>\n",
       "    </tr>\n",
       "    <tr>\n",
       "      <th>2</th>\n",
       "      <td>CERTIFIED-WITHDRAWN</td>\n",
       "      <td>PORTS AMERICA GROUP, INC.</td>\n",
       "      <td>CHIEF EXECUTIVES</td>\n",
       "      <td>CHIEF PROCESS OFFICER</td>\n",
       "      <td>Y</td>\n",
       "      <td>193066.0</td>\n",
       "      <td>2016.0</td>\n",
       "      <td>JERSEY CITY, NEW JERSEY</td>\n",
       "      <td>-74.077642</td>\n",
       "      <td>40.728158</td>\n",
       "    </tr>\n",
       "    <tr>\n",
       "      <th>3</th>\n",
       "      <td>CERTIFIED-WITHDRAWN</td>\n",
       "      <td>GATES CORPORATION, A WHOLLY-OWNED SUBSIDIARY O...</td>\n",
       "      <td>CHIEF EXECUTIVES</td>\n",
       "      <td>REGIONAL PRESIDEN, AMERICAS</td>\n",
       "      <td>Y</td>\n",
       "      <td>220314.0</td>\n",
       "      <td>2016.0</td>\n",
       "      <td>DENVER, COLORADO</td>\n",
       "      <td>-104.990251</td>\n",
       "      <td>39.739236</td>\n",
       "    </tr>\n",
       "    <tr>\n",
       "      <th>4</th>\n",
       "      <td>WITHDRAWN</td>\n",
       "      <td>PEABODY INVESTMENTS CORP.</td>\n",
       "      <td>CHIEF EXECUTIVES</td>\n",
       "      <td>PRESIDENT MONGOLIA AND INDIA</td>\n",
       "      <td>Y</td>\n",
       "      <td>157518.4</td>\n",
       "      <td>2016.0</td>\n",
       "      <td>ST. LOUIS, MISSOURI</td>\n",
       "      <td>-90.199404</td>\n",
       "      <td>38.627003</td>\n",
       "    </tr>\n",
       "  </tbody>\n",
       "</table>\n",
       "</div>"
      ],
      "text/plain": [
       "           CASE_STATUS                                      EMPLOYER_NAME  \\\n",
       "0  CERTIFIED-WITHDRAWN                             UNIVERSITY OF MICHIGAN   \n",
       "1  CERTIFIED-WITHDRAWN                             GOODMAN NETWORKS, INC.   \n",
       "2  CERTIFIED-WITHDRAWN                          PORTS AMERICA GROUP, INC.   \n",
       "3  CERTIFIED-WITHDRAWN  GATES CORPORATION, A WHOLLY-OWNED SUBSIDIARY O...   \n",
       "4            WITHDRAWN                          PEABODY INVESTMENTS CORP.   \n",
       "\n",
       "                        SOC_NAME                     JOB_TITLE  \\\n",
       "0  BIOCHEMISTS AND BIOPHYSICISTS  POSTDOCTORAL RESEARCH FELLOW   \n",
       "1               CHIEF EXECUTIVES       CHIEF OPERATING OFFICER   \n",
       "2               CHIEF EXECUTIVES         CHIEF PROCESS OFFICER   \n",
       "3               CHIEF EXECUTIVES   REGIONAL PRESIDEN, AMERICAS   \n",
       "4               CHIEF EXECUTIVES  PRESIDENT MONGOLIA AND INDIA   \n",
       "\n",
       "  FULL_TIME_POSITION  PREVAILING_WAGE    YEAR                 WORKSITE  \\\n",
       "0                  N          36067.0  2016.0      ANN ARBOR, MICHIGAN   \n",
       "1                  Y         242674.0  2016.0             PLANO, TEXAS   \n",
       "2                  Y         193066.0  2016.0  JERSEY CITY, NEW JERSEY   \n",
       "3                  Y         220314.0  2016.0         DENVER, COLORADO   \n",
       "4                  Y         157518.4  2016.0      ST. LOUIS, MISSOURI   \n",
       "\n",
       "          lon        lat  \n",
       "0  -83.743038  42.280826  \n",
       "1  -96.698886  33.019843  \n",
       "2  -74.077642  40.728158  \n",
       "3 -104.990251  39.739236  \n",
       "4  -90.199404  38.627003  "
      ]
     },
     "execution_count": 3,
     "metadata": {},
     "output_type": "execute_result"
    }
   ],
   "source": [
    "h1b.head()"
   ]
  },
  {
   "cell_type": "code",
   "execution_count": 4,
   "metadata": {},
   "outputs": [
    {
     "data": {
      "image/png": "[encoded data removed]",
      "text/plain": [
       "<Figure size 432x288 with 1 Axes>"
      ]
     },
     "metadata": {
      "needs_background": "light"
     },
     "output_type": "display_data"
    },
    {
     "name": "stdout",
     "output_type": "stream",
     "text": [
      "CERTIFIED                                             2615623\n",
      "CERTIFIED-WITHDRAWN                                    202659\n",
      "DENIED                                                  94346\n",
      "WITHDRAWN                                               89799\n",
      "PENDING QUALITY AND COMPLIANCE REVIEW - UNASSIGNED         15\n",
      "REJECTED                                                    2\n",
      "INVALIDATED                                                 1\n",
      "Name: CASE_STATUS, dtype: int64\n"
     ]
    }
   ],
   "source": [
    "plot_status_numberinit = h1b['CASE_STATUS'].value_counts().plot(title = 'THE DISTRIBUTION OF CASE STATUS', \\\n",
    "                                                                kind = 'barh', color = 'lightblue')\n",
    "plot_status_numberinit.set_xlabel(\"CASE STATUS LEVEL\")\n",
    "plot_status_numberinit.set_ylabel(\"NUMBER OF PETITIONS\")\n",
    "plt.show()\n",
    "print(h1b['CASE_STATUS'].value_counts())"
   ]
  },
  {
   "cell_type": "markdown",
   "metadata": {},
   "source": [
    "## 3. Analysis"
   ]
  },
  {
   "cell_type": "markdown",
   "metadata": {},
   "source": [
    "### 3.1 'Certified' and 'Denied'"
   ]
  },
  {
   "cell_type": "markdown",
   "metadata": {},
   "source": [
    "Since this report only focused on the foreigners who were 'certified' or 'denied' with H1-B visa, the first thing I did was to remove 'rejected', 'invalid' and 'pending quality and compliance review - unassigned' ones in the dataset."
   ]
  },
  {
   "cell_type": "code",
   "execution_count": 5,
   "metadata": {},
   "outputs": [
    {
     "name": "stdout",
     "output_type": "stream",
     "text": [
      "CERTIFIED    2615623\n",
      "DENIED         94346\n",
      "Name: CASE_STATUS, dtype: int64\n"
     ]
    },
    {
     "data": {
      "text/html": [
       "<div>\n",
       "<style scoped>\n",
       "    .dataframe tbody tr th:only-of-type {\n",
       "        vertical-align: middle;\n",
       "    }\n",
       "\n",
       "    .dataframe tbody tr th {\n",
       "        vertical-align: top;\n",
       "    }\n",
       "\n",
       "    .dataframe thead th {\n",
       "        text-align: right;\n",
       "    }\n",
       "</style>\n",
       "<table border=\"1\" class=\"dataframe\">\n",
       "  <thead>\n",
       "    <tr style=\"text-align: right;\">\n",
       "      <th></th>\n",
       "      <th>CASE_STATUS</th>\n",
       "      <th>EMPLOYER_NAME</th>\n",
       "      <th>SOC_NAME</th>\n",
       "      <th>JOB_TITLE</th>\n",
       "      <th>FULL_TIME_POSITION</th>\n",
       "      <th>PREVAILING_WAGE</th>\n",
       "      <th>YEAR</th>\n",
       "      <th>WORKSITE</th>\n",
       "      <th>lon</th>\n",
       "      <th>lat</th>\n",
       "    </tr>\n",
       "  </thead>\n",
       "  <tbody>\n",
       "    <tr>\n",
       "      <th>0</th>\n",
       "      <td>CERTIFIED</td>\n",
       "      <td>QUICKLOGIX LLC</td>\n",
       "      <td>CHIEF EXECUTIVES</td>\n",
       "      <td>CEO</td>\n",
       "      <td>Y</td>\n",
       "      <td>187200.0</td>\n",
       "      <td>2016.0</td>\n",
       "      <td>SANTA CLARA, CALIFORNIA</td>\n",
       "      <td>-121.955236</td>\n",
       "      <td>37.354108</td>\n",
       "    </tr>\n",
       "    <tr>\n",
       "      <th>1</th>\n",
       "      <td>CERTIFIED</td>\n",
       "      <td>MCCHRYSTAL GROUP, LLC</td>\n",
       "      <td>CHIEF EXECUTIVES</td>\n",
       "      <td>PRESIDENT, NORTHEAST REGION</td>\n",
       "      <td>Y</td>\n",
       "      <td>241842.0</td>\n",
       "      <td>2016.0</td>\n",
       "      <td>ALEXANDRIA, VIRGINIA</td>\n",
       "      <td>-77.046921</td>\n",
       "      <td>38.804835</td>\n",
       "    </tr>\n",
       "    <tr>\n",
       "      <th>2</th>\n",
       "      <td>CERTIFIED</td>\n",
       "      <td>LOMICS, LLC</td>\n",
       "      <td>CHIEF EXECUTIVES</td>\n",
       "      <td>CEO</td>\n",
       "      <td>Y</td>\n",
       "      <td>99986.0</td>\n",
       "      <td>2016.0</td>\n",
       "      <td>SAN DIEGO, CALIFORNIA</td>\n",
       "      <td>-117.161084</td>\n",
       "      <td>32.715738</td>\n",
       "    </tr>\n",
       "    <tr>\n",
       "      <th>3</th>\n",
       "      <td>CERTIFIED</td>\n",
       "      <td>UC UNIVERSITY HIGH SCHOOL EDUCATION INC.</td>\n",
       "      <td>CHIEF EXECUTIVES</td>\n",
       "      <td>CHIEF FINANCIAL OFFICER</td>\n",
       "      <td>Y</td>\n",
       "      <td>99986.0</td>\n",
       "      <td>2016.0</td>\n",
       "      <td>CHULA VISTA, CALIFORNIA</td>\n",
       "      <td>-117.084196</td>\n",
       "      <td>32.640054</td>\n",
       "    </tr>\n",
       "    <tr>\n",
       "      <th>4</th>\n",
       "      <td>CERTIFIED</td>\n",
       "      <td>QUICKLOGIX, INC.</td>\n",
       "      <td>CHIEF EXECUTIVES</td>\n",
       "      <td>CEO</td>\n",
       "      <td>Y</td>\n",
       "      <td>187200.0</td>\n",
       "      <td>2016.0</td>\n",
       "      <td>SANTA CLARA, CALIFORNIA</td>\n",
       "      <td>-121.955236</td>\n",
       "      <td>37.354108</td>\n",
       "    </tr>\n",
       "  </tbody>\n",
       "</table>\n",
       "</div>"
      ],
      "text/plain": [
       "  CASE_STATUS                             EMPLOYER_NAME          SOC_NAME  \\\n",
       "0   CERTIFIED                            QUICKLOGIX LLC  CHIEF EXECUTIVES   \n",
       "1   CERTIFIED                     MCCHRYSTAL GROUP, LLC  CHIEF EXECUTIVES   \n",
       "2   CERTIFIED                               LOMICS, LLC  CHIEF EXECUTIVES   \n",
       "3   CERTIFIED  UC UNIVERSITY HIGH SCHOOL EDUCATION INC.  CHIEF EXECUTIVES   \n",
       "4   CERTIFIED                          QUICKLOGIX, INC.  CHIEF EXECUTIVES   \n",
       "\n",
       "                     JOB_TITLE FULL_TIME_POSITION  PREVAILING_WAGE    YEAR  \\\n",
       "0                          CEO                  Y         187200.0  2016.0   \n",
       "1  PRESIDENT, NORTHEAST REGION                  Y         241842.0  2016.0   \n",
       "2                          CEO                  Y          99986.0  2016.0   \n",
       "3      CHIEF FINANCIAL OFFICER                  Y          99986.0  2016.0   \n",
       "4                          CEO                  Y         187200.0  2016.0   \n",
       "\n",
       "                  WORKSITE         lon        lat  \n",
       "0  SANTA CLARA, CALIFORNIA -121.955236  37.354108  \n",
       "1     ALEXANDRIA, VIRGINIA  -77.046921  38.804835  \n",
       "2    SAN DIEGO, CALIFORNIA -117.161084  32.715738  \n",
       "3  CHULA VISTA, CALIFORNIA -117.084196  32.640054  \n",
       "4  SANTA CLARA, CALIFORNIA -121.955236  37.354108  "
      ]
     },
     "execution_count": 5,
     "metadata": {},
     "output_type": "execute_result"
    }
   ],
   "source": [
    "h1b_2 = h1b.loc[h1b['CASE_STATUS'].isin([\"CERTIFIED\", \"DENIED\"])]\n",
    "print(h1b_2['CASE_STATUS'].value_counts())\n",
    "\n",
    "# reset the index\n",
    "h1b_2.reset_index(drop=True, inplace=True)\n",
    "h1b_2.head()"
   ]
  },
  {
   "cell_type": "markdown",
   "metadata": {},
   "source": [
    "The value counts of case status shows that it is a highly imbalanced dataset. As you can see, the samples with certified status are far more than the ones with denied status.\n",
    "\n",
    "So, data balancing becomes a very important step. Downsampling method may be used to resample the dataset in order to increase the model performance.\n"
   ]
  },
  {
   "cell_type": "markdown",
   "metadata": {},
   "source": [
    "### 3.2 Dealing with Data Type"
   ]
  },
  {
   "cell_type": "code",
   "execution_count": 6,
   "metadata": {},
   "outputs": [
    {
     "name": "stdout",
     "output_type": "stream",
     "text": [
      "<class 'pandas.core.frame.DataFrame'>\n",
      "RangeIndex: 2709969 entries, 0 to 2709968\n",
      "Data columns (total 10 columns):\n",
      "CASE_STATUS           object\n",
      "EMPLOYER_NAME         object\n",
      "SOC_NAME              object\n",
      "JOB_TITLE             object\n",
      "FULL_TIME_POSITION    object\n",
      "PREVAILING_WAGE       float64\n",
      "YEAR                  float64\n",
      "WORKSITE              object\n",
      "lon                   float64\n",
      "lat                   float64\n",
      "dtypes: float64(4), object(6)\n",
      "memory usage: 206.8+ MB\n"
     ]
    }
   ],
   "source": [
    "h1b_2.info()"
   ]
  },
  {
   "cell_type": "code",
   "execution_count": 7,
   "metadata": {},
   "outputs": [],
   "source": [
    "import warnings\n",
    "warnings.filterwarnings(\"ignore\")\n",
    "\n",
    "h1b_2['EMPLOYER_NAME'] = h1b_2['EMPLOYER_NAME'].str.upper()\n",
    "h1b_2['YEAR'] = h1b_2['YEAR'].astype(int)\n",
    "h1b_2['SOC_NAME'] = h1b_2['SOC_NAME'].str.upper()\n",
    "h1b_2['JOB_TITLE'] = h1b_2['JOB_TITLE'].str.upper()\n",
    "h1b_2['FULL_TIME_POSITION'] = h1b_2['FULL_TIME_POSITION'].str.upper()\n",
    "h1b_2['WORKSITE'] = h1b_2['WORKSITE'].str.upper()"
   ]
  },
  {
   "cell_type": "code",
   "execution_count": 8,
   "metadata": {},
   "outputs": [
    {
     "name": "stdout",
     "output_type": "stream",
     "text": [
      "<class 'pandas.core.frame.DataFrame'>\n",
      "RangeIndex: 2709969 entries, 0 to 2709968\n",
      "Data columns (total 10 columns):\n",
      "CASE_STATUS           object\n",
      "EMPLOYER_NAME         object\n",
      "SOC_NAME              object\n",
      "JOB_TITLE             object\n",
      "FULL_TIME_POSITION    object\n",
      "PREVAILING_WAGE       float64\n",
      "YEAR                  int64\n",
      "WORKSITE              object\n",
      "lon                   float64\n",
      "lat                   float64\n",
      "dtypes: float64(3), int64(1), object(6)\n",
      "memory usage: 206.8+ MB\n"
     ]
    }
   ],
   "source": [
    "h1b_2.info()"
   ]
  },
  {
   "cell_type": "markdown",
   "metadata": {},
   "source": [
    "### 3.3 Missing Data"
   ]
  },
  {
   "cell_type": "markdown",
   "metadata": {},
   "source": [
    "This dataset is not tidy and it includes missing values. I decided to first look into variables that contain missing valus."
   ]
  },
  {
   "cell_type": "code",
   "execution_count": 9,
   "metadata": {},
   "outputs": [
    {
     "data": {
      "text/plain": [
       "CASE_STATUS               0\n",
       "EMPLOYER_NAME            18\n",
       "SOC_NAME              15893\n",
       "JOB_TITLE                10\n",
       "FULL_TIME_POSITION        1\n",
       "PREVAILING_WAGE          53\n",
       "YEAR                      0\n",
       "WORKSITE                  0\n",
       "lon                   97071\n",
       "lat                   97071\n",
       "dtype: int64"
      ]
     },
     "execution_count": 9,
     "metadata": {},
     "output_type": "execute_result"
    }
   ],
   "source": [
    "h1b_2.isnull().sum()"
   ]
  },
  {
   "cell_type": "markdown",
   "metadata": {},
   "source": [
    "It can be found that there are few missing values in the most columns except for \"lon\" and \"lat\" columns. And even for this two columns, the percentage of missing data is only 3.3% of the entire dataset. So I decided to remove missing values in 'EMPLOYER_NAME', 'SOC_NAME', 'JOB_TITLE', 'FULL_TIME_POSITION' and 'PREVAILING_WAGE'."
   ]
  },
  {
   "cell_type": "code",
   "execution_count": 10,
   "metadata": {},
   "outputs": [],
   "source": [
    "h1b_2=h1b_2.dropna(subset=['EMPLOYER_NAME', 'JOB_TITLE', 'SOC_NAME',\\\n",
    "                  'FULL_TIME_POSITION','PREVAILING_WAGE'])"
   ]
  },
  {
   "cell_type": "markdown",
   "metadata": {},
   "source": [
    "Since the information that 'lon' and 'lat' convey can be covered by the the 'worksite' variables, I will drop this 2 variables."
   ]
  },
  {
   "cell_type": "code",
   "execution_count": 11,
   "metadata": {},
   "outputs": [],
   "source": [
    "h1b_2 = h1b_2.drop('lat', axis = 1)\n",
    "h1b_2 = h1b_2.drop('lon', axis = 1)"
   ]
  },
  {
   "cell_type": "code",
   "execution_count": 12,
   "metadata": {},
   "outputs": [
    {
     "data": {
      "text/plain": [
       "CASE_STATUS           0\n",
       "EMPLOYER_NAME         0\n",
       "SOC_NAME              0\n",
       "JOB_TITLE             0\n",
       "FULL_TIME_POSITION    0\n",
       "PREVAILING_WAGE       0\n",
       "YEAR                  0\n",
       "WORKSITE              0\n",
       "dtype: int64"
      ]
     },
     "execution_count": 12,
     "metadata": {},
     "output_type": "execute_result"
    }
   ],
   "source": [
    "h1b_2.isnull().sum()"
   ]
  },
  {
   "cell_type": "markdown",
   "metadata": {},
   "source": [
    "### 3.4 Certified Rate Over Year "
   ]
  },
  {
   "cell_type": "code",
   "execution_count": 13,
   "metadata": {},
   "outputs": [
    {
     "data": {
      "image/png": "[encoded data removed]",
      "text/plain": [
       "<Figure size 432x288 with 1 Axes>"
      ]
     },
     "metadata": {
      "needs_background": "light"
     },
     "output_type": "display_data"
    }
   ],
   "source": [
    "plot_certified_rate = pd.DataFrame(h1b_2[h1b_2['CASE_STATUS'] == 'CERTIFIED'].YEAR.value_counts() / h1b_2.YEAR.value_counts())\n",
    "plot_certified_rate = plot_certified_rate.sort_values(['YEAR'])\n",
    "plot_certified_rate = plot_certified_rate.plot(title = 'H1-B Petitions Certified Rate Over Year', kind = 'line')\n",
    "plot_certified_rate.set_xlabel('YEAR')\n",
    "plot_certified_rate.set_ylabel('CERTIFIED RATIO')\n",
    "plt.show()"
   ]
  },
  {
   "cell_type": "markdown",
   "metadata": {},
   "source": [
    "The plot 'H1-B Petitions Certified Rate Over Year' shows that the certified rate of H1-B petitions is increasing from 0.91 to 0.98 over years. Candidates are more likely to get certified than before."
   ]
  },
  {
   "cell_type": "markdown",
   "metadata": {},
   "source": [
    "### 3.5 Top 10 Employers Who Sponsor the H1-B "
   ]
  },
  {
   "cell_type": "code",
   "execution_count": 14,
   "metadata": {},
   "outputs": [
    {
     "name": "stdout",
     "output_type": "stream",
     "text": [
      "INFOSYS LIMITED                      130241\n",
      "TATA CONSULTANCY SERVICES LIMITED     64358\n",
      "WIPRO LIMITED                         41719\n",
      "DELOITTE CONSULTING LLP               36667\n",
      "ACCENTURE LLP                         32983\n",
      "IBM INDIA PRIVATE LIMITED             27875\n",
      "MICROSOFT CORPORATION                 22373\n",
      "HCL AMERICA, INC.                     22330\n",
      "ERNST & YOUNG U.S. LLP                18217\n",
      "CAPGEMINI AMERICA INC                 16032\n",
      "Name: EMPLOYER_NAME, dtype: int64\n"
     ]
    },
    {
     "data": {
      "image/png": "[encoded data removed]",
      "text/plain": [
       "<Figure size 720x360 with 1 Axes>"
      ]
     },
     "metadata": {
      "needs_background": "light"
     },
     "output_type": "display_data"
    }
   ],
   "source": [
    "plot_top10emp= h1b_2['EMPLOYER_NAME'].value_counts().head(10).plot.barh(title = \"Top 10 employers who sponsor the H1-B\", \\\n",
    "                                                                 color = 'lightblue', figsize = (10, 5))\n",
    "plot_top10emp.set_ylabel(\"EMPLOYER NAME\")\n",
    "plot_top10emp.set_xlabel(\"NUMBER OF PETITIONS\")\n",
    "plot_top10emp\n",
    "\n",
    "print(h1b_2['EMPLOYER_NAME'].value_counts().head(10))"
   ]
  },
  {
   "cell_type": "markdown",
   "metadata": {},
   "source": [
    "From the plot \"Top 10 employers who sponsor the H1-B\", it can be found that from 2011 to 2016, the INFOSYS LIMITED, TATA CONSULTANCY SERVICE, WIPRO LIMITED rank top 3 employer who sponsor the H1B and they are all Indian IT companies. International students who qualified should consider these companies first if they want to obtain H1-B."
   ]
  },
  {
   "cell_type": "markdown",
   "metadata": {},
   "source": [
    "### 3.6 Top 10 Job Title"
   ]
  },
  {
   "cell_type": "code",
   "execution_count": 15,
   "metadata": {},
   "outputs": [
    {
     "name": "stdout",
     "output_type": "stream",
     "text": [
      "PROGRAMMER ANALYST          225054\n",
      "SOFTWARE ENGINEER           104672\n",
      "COMPUTER PROGRAMMER          64860\n",
      "SYSTEMS ANALYST              56521\n",
      "SOFTWARE DEVELOPER           38650\n",
      "BUSINESS ANALYST             35875\n",
      "COMPUTER SYSTEMS ANALYST     32002\n",
      "TECHNOLOGY LEAD - US         28312\n",
      "TECHNOLOGY ANALYST - US      26013\n",
      "SENIOR SOFTWARE ENGINEER     23863\n",
      "Name: JOB_TITLE, dtype: int64\n"
     ]
    },
    {
     "data": {
      "image/png": "[encoded data removed]",
      "text/plain": [
       "<Figure size 720x360 with 1 Axes>"
      ]
     },
     "metadata": {
      "needs_background": "light"
     },
     "output_type": "display_data"
    }
   ],
   "source": [
    "plot_top10soc= h1b_2['JOB_TITLE'].value_counts().head(10).plot.barh(title = \"Top 10 Job Title\", \\\n",
    "                                                                 color = 'lightblue', figsize = (10, 5))\n",
    "plot_top10soc.set_ylabel(\"JOB TITLE\")\n",
    "plot_top10soc.set_xlabel(\"NUMBER OF PETITIONS\")\n",
    "plot_top10soc\n",
    "print(h1b_2['JOB_TITLE'].value_counts().head(10))\n"
   ]
  },
  {
   "cell_type": "markdown",
   "metadata": {},
   "source": [
    "The plot 'Top 10 Job Title' shows that from 2011 to 2016, 9 out of the 10 top job titles are all related to the computer science no wonder so many people want to study computer science."
   ]
  },
  {
   "cell_type": "markdown",
   "metadata": {},
   "source": [
    "### 3.7 Top 10 Worksites"
   ]
  },
  {
   "cell_type": "code",
   "execution_count": 16,
   "metadata": {},
   "outputs": [
    {
     "name": "stdout",
     "output_type": "stream",
     "text": [
      "NEW YORK, NEW YORK           170835\n",
      "HOUSTON, TEXAS                73667\n",
      "SAN FRANCISCO, CALIFORNIA     55816\n",
      "ATLANTA, GEORGIA              47756\n",
      "CHICAGO, ILLINOIS             46464\n",
      "SAN JOSE, CALIFORNIA          44917\n",
      "SUNNYVALE, CALIFORNIA         30653\n",
      "DALLAS, TEXAS                 28556\n",
      "CHARLOTTE, NORTH CAROLINA     28345\n",
      "BOSTON, MASSACHUSETTS         27653\n",
      "Name: WORKSITE, dtype: int64\n"
     ]
    },
    {
     "data": {
      "image/png": "[encoded data removed]",
      "text/plain": [
       "<Figure size 720x360 with 1 Axes>"
      ]
     },
     "metadata": {
      "needs_background": "light"
     },
     "output_type": "display_data"
    }
   ],
   "source": [
    "plot_top10region= h1b_2['WORKSITE'].value_counts().head(10).plot.barh(title = \"Top 10 Worksites\", \\\n",
    "                                                                 color = 'lightblue', figsize = (10, 5))\n",
    "plot_top10region.set_ylabel(\"WORKSITE\")\n",
    "plot_top10region.set_xlabel(\"NUMBER OF PETITIONS\")\n",
    "plot_top10region\n",
    "print(h1b_2['WORKSITE'].value_counts().head(10))"
   ]
  },
  {
   "cell_type": "markdown",
   "metadata": {},
   "source": [
    "From the plot \"Top 10 Worksites\", it can be found that from 2011 to 2016, the NEW YORK, HOUSTON, SAN FRANCISCO, ATLANTA, CHICAGO are the most common cities where applicants work in."
   ]
  },
  {
   "cell_type": "markdown",
   "metadata": {},
   "source": [
    "### 3.8 Median Prevailing Wage Over Year"
   ]
  },
  {
   "cell_type": "code",
   "execution_count": 17,
   "metadata": {},
   "outputs": [
    {
     "data": {
      "image/png": "[encoded data removed]",
      "text/plain": [
       "<Figure size 432x288 with 1 Axes>"
      ]
     },
     "metadata": {
      "needs_background": "light"
     },
     "output_type": "display_data"
    },
    {
     "data": {
      "text/plain": [
       "<matplotlib.axes._subplots.AxesSubplot at 0x1a226b0710>"
      ]
     },
     "execution_count": 17,
     "metadata": {},
     "output_type": "execute_result"
    }
   ],
   "source": [
    "salary_over_year = h1b_2.loc[:,['PREVAILING_WAGE', 'YEAR']].groupby(['YEAR']).agg(['median'])\n",
    "\n",
    "salary_over_year = salary_over_year.plot(kind = 'bar', color = 'lightblue', legend = None, title ='Median Prevailling Wage Over Year')\n",
    "salary_over_year.set_xlabel('YEAR')\n",
    "salary_over_year.set_ylabel('MEDIAN WAGE')\n",
    "plt.show()\n",
    "salary_over_year\n"
   ]
  },
  {
   "cell_type": "code",
   "execution_count": 18,
   "metadata": {},
   "outputs": [
    {
     "name": "stdout",
     "output_type": "stream",
     "text": [
      "Minimum wage: $0.00\n",
      "Maximum wage: $6,997,606,720.00\n",
      "Mean wage: $148,074.15\n",
      "Median wage $65,027.50\n",
      "Standard deviation of wage: $5,481,325.92\n"
     ]
    }
   ],
   "source": [
    "# Show the calculated statistics\n",
    "print(\"Minimum wage: ${:,.2f}\".format(min(h1b_2['PREVAILING_WAGE'])))\n",
    "print(\"Maximum wage: ${:,.2f}\".format(max(h1b_2['PREVAILING_WAGE'])))\n",
    "print(\"Mean wage: ${:,.2f}\".format(np.mean(h1b_2['PREVAILING_WAGE'])))\n",
    "print(\"Median wage ${:,.2f}\".format(np.median(h1b_2['PREVAILING_WAGE'])))\n",
    "print(\"Standard deviation of wage: ${:,.2f}\".format(np.std(h1b_2['PREVAILING_WAGE'])))"
   ]
  },
  {
   "cell_type": "markdown",
   "metadata": {},
   "source": [
    "The plot 'Median Prevailing Wage Over Year' shows that the median prevailling wage is increasing from 2011 to 2016. Overall, the median prevailing wage is \\$ 65,027.5 and the mean prevailing wage is $148,074.15. "
   ]
  },
  {
   "cell_type": "markdown",
   "metadata": {},
   "source": [
    "## 4. Model Development and Application of Models"
   ]
  },
  {
   "cell_type": "markdown",
   "metadata": {},
   "source": [
    "### 4.1 Feature Engineering"
   ]
  },
  {
   "cell_type": "markdown",
   "metadata": {},
   "source": [
    "First I checked the unique values for all variables before doing some further feature engineering. "
   ]
  },
  {
   "cell_type": "code",
   "execution_count": 19,
   "metadata": {},
   "outputs": [
    {
     "name": "stdout",
     "output_type": "stream",
     "text": [
      "Unique Case Status  2\n",
      "Unique Employers  231207\n",
      "Prevailing Wages  54661\n",
      "Unique SOCs  1515\n",
      "Unique Job Titles  275785\n",
      "Unique Year  6\n",
      "Unique Worksite State  17785\n",
      "Unique Employment Type  2\n"
     ]
    }
   ],
   "source": [
    "print(\"Unique Case Status \", h1b_2.CASE_STATUS.nunique())\n",
    "print(\"Unique Employers \", h1b_2.EMPLOYER_NAME.nunique())\n",
    "print(\"Prevailing Wages \", h1b_2.PREVAILING_WAGE.nunique())\n",
    "print(\"Unique SOCs \", h1b_2.SOC_NAME.nunique())\n",
    "print(\"Unique Job Titles \", h1b_2.JOB_TITLE.nunique())\n",
    "print(\"Unique Year \", h1b_2.YEAR.nunique())\n",
    "print(\"Unique Worksite State \", h1b_2.WORKSITE.nunique())\n",
    "print(\"Unique Employment Type \", h1b_2.FULL_TIME_POSITION.nunique())"
   ]
  },
  {
   "cell_type": "markdown",
   "metadata": {},
   "source": [
    "As we can see, there are too many unique values in EMPLOYER_NAME. It is impossible to use EMPLOYER_NAME directly in the model with so many unique values(levels). So I created a new variable name 'EMPLOYER_TYPE'. All the strings in EMPLOYER_NAME that contains 'UNIVERSITY' will have 'UNIVERSITY' as value in the 'EMPLOYER_TYPE' column. And the remaining ones will be filled with 'COMPANY'."
   ]
  },
  {
   "cell_type": "code",
   "execution_count": 20,
   "metadata": {},
   "outputs": [
    {
     "data": {
      "text/plain": [
       "COMPANY       2579272\n",
       "UNIVERSITY     114730\n",
       "Name: EMPLOYER_TYPE, dtype: int64"
      ]
     },
     "execution_count": 20,
     "metadata": {},
     "output_type": "execute_result"
    }
   ],
   "source": [
    "h1b_2['EMPLOYER_TYPE'] = np.nan\n",
    "h1b_2.EMPLOYER_TYPE[h1b_2['EMPLOYER_NAME'].str.contains('UNIVERSITY')] = 'UNIVERSITY'\n",
    "h1b_2['EMPLOYER_TYPE']= h1b_2.EMPLOYER_TYPE.replace(np.nan, 'COMPANY', regex=True)\n",
    "h1b_2.EMPLOYER_TYPE.value_counts()"
   ]
  },
  {
   "cell_type": "markdown",
   "metadata": {},
   "source": [
    "I also dealt with the SOC_NAME. I created a new categorical variable 'OCCUPATION' to contain important information from 'SOC_NAME'. Specifically, since 'SOC_NAME' has provided enough information, I will not include 'JOB_TITLE' in the modeling."
   ]
  },
  {
   "cell_type": "code",
   "execution_count": 21,
   "metadata": {},
   "outputs": [],
   "source": [
    "warnings.filterwarnings(\"ignore\")\n",
    "\n",
    "h1b_2['OCCUPATION'] = np.nan\n",
    "h1b_2.OCCUPATION[h1b_2['SOC_NAME'].str.contains('COMPUTER','PROGRAMMER')] = 'COMPUTER'\n",
    "h1b_2.OCCUPATION[h1b_2['SOC_NAME'].str.contains('SOFTWARE','DATABASE')] = 'COMPUTER'\n",
    "h1b_2.OCCUPATION[h1b_2['SOC_NAME'].str.contains('WEB DEVELOPER','INFORMATION')] = 'COMPUTER'\n",
    "\n",
    "h1b_2.OCCUPATION[h1b_2['SOC_NAME'].str.contains('MATH','STATISTICS')] = 'MATH'\n",
    "h1b_2.OCCUPATION[h1b_2['SOC_NAME'].str.contains('MATHEMA','STATS')] = 'MATH'\n",
    "h1b_2.OCCUPATION[h1b_2['SOC_NAME'].str.contains('STATISTICIANS','PREDICTIVE MODEL')] = 'MATH'\n",
    "                                                \n",
    "h1b_2.OCCUPATION[h1b_2['SOC_NAME'].str.contains('TEACHER','LINGUIST')] = 'EDUCATION'\n",
    "h1b_2.OCCUPATION[h1b_2['SOC_NAME'].str.contains('PROFESSOR','TEACH')] = 'EDUCATION'        \n",
    "h1b_2.OCCUPATION[h1b_2['SOC_NAME'].str.contains('SCHOOL PRINCIPAL')] = 'EDUCATION'   \n",
    "\n",
    "h1b_2.OCCUPATION[h1b_2['SOC_NAME'].str.contains('PHYSICAL THERAPIST','SURGEON',)] = 'MEDICAL'\n",
    "h1b_2.OCCUPATION[h1b_2['SOC_NAME'].str.contains('MEDICAL','DOCTOR')] = 'MEDICAL'\n",
    "h1b_2.OCCUPATION[h1b_2['SOC_NAME'].str.contains('HEALTH')] = 'MEDICAL'                                          \n",
    "h1b_2.OCCUPATION[h1b_2['SOC_NAME'].str.contains('NURSE','PSYCHIATR')] = 'MEDICAL'   \n",
    "                                                \n",
    "h1b_2.OCCUPATION[h1b_2['SOC_NAME'].str.contains('CHEMIST','BIOLOGY')] = 'ADVANCE SCIENCE'\n",
    "h1b_2.OCCUPATION[h1b_2['SOC_NAME'].str.contains('BIOLOGI','CLINICAL')] = 'ADVANCE SCIENCE'\n",
    "h1b_2.OCCUPATION[h1b_2['SOC_NAME'].str.contains('SCIENTIST','PHYSICITS')] = 'ADVANCE SCIENCE'\n",
    "\n",
    "h1b_2.OCCUPATION[h1b_2['SOC_NAME'].str.contains('CHIEF','PLAN')] = 'MANAGEMENT'\n",
    "h1b_2.OCCUPATION[h1b_2['SOC_NAME'].str.contains('OPERATION','MANAGE')] = 'MANAGEMENT'\n",
    "h1b_2.OCCUPATION[h1b_2['SOC_NAME'].str.contains('EXECUTIVE','PUBLIC RELATION')] = 'MANAGEMENT'\n",
    "\n",
    "h1b_2.OCCUPATION[h1b_2['SOC_NAME'].str.contains('ADVERTISE','ADVERTISING')] = 'MARKETING'\n",
    "h1b_2.OCCUPATION[h1b_2['SOC_NAME'].str.contains('MARKETING','PROMOTION')] = 'MARKETING'\n",
    "h1b_2.OCCUPATION[h1b_2['SOC_NAME'].str.contains('MARKET')] = 'MARKETING'\n",
    "\n",
    "h1b_2.OCCUPATION[h1b_2['SOC_NAME'].str.contains('FINANCIAL','ACCOUNTANT')] = 'FINANCIAL & BUSINESS'\n",
    "h1b_2.OCCUPATION[h1b_2['SOC_NAME'].str.contains('FINANCE','BUSINESS')] = 'FINANCIAL & BUSINESS'\n",
    "\n",
    "h1b_2.OCCUPATION[h1b_2['SOC_NAME'].str.contains('ARCHITECT','SURVEYOR')] = 'ARCHITECTURE & ENGINEERING'\n",
    "h1b_2.OCCUPATION[h1b_2['SOC_NAME'].str.contains('CARTO','DRAFTER')] = 'ARCHITECTURE & ENGINEERING'\n",
    "h1b_2['OCCUPATION']= h1b_2.OCCUPATION.replace(np.nan, 'OTHER', regex=True)"
   ]
  },
  {
   "cell_type": "code",
   "execution_count": 22,
   "metadata": {},
   "outputs": [
    {
     "data": {
      "text/plain": [
       "COMPUTER                      1676226\n",
       "OTHER                          576653\n",
       "ADVANCE SCIENCE                101617\n",
       "EDUCATION                       65926\n",
       "FINANCIAL & BUSINESS            65425\n",
       "MEDICAL                         58242\n",
       "MARKETING                       54319\n",
       "MANAGEMENT                      53763\n",
       "ARCHITECTURE & ENGINEERING      24961\n",
       "MATH                            16870\n",
       "Name: OCCUPATION, dtype: int64"
      ]
     },
     "execution_count": 22,
     "metadata": {},
     "output_type": "execute_result"
    }
   ],
   "source": [
    "h1b_2.OCCUPATION.value_counts()"
   ]
  },
  {
   "cell_type": "markdown",
   "metadata": {},
   "source": [
    "For the 'WORKSITE' variable， I extracted state information from it and created a new variable 'STATE'."
   ]
  },
  {
   "cell_type": "code",
   "execution_count": 23,
   "metadata": {},
   "outputs": [],
   "source": [
    "def State(WORK_SITE):\n",
    "    return WORK_SITE.split(', ')[1]\n",
    "\n",
    "h1b_2['STATE'] = h1b_2['WORKSITE'].apply(State)\n"
   ]
  },
  {
   "cell_type": "code",
   "execution_count": 24,
   "metadata": {},
   "outputs": [
    {
     "data": {
      "text/plain": [
       "CALIFORNIA              497077\n",
       "TEXAS                   262450\n",
       "NEW YORK                261280\n",
       "NEW JERSEY              194532\n",
       "ILLINOIS                145385\n",
       "MASSACHUSETTS           103288\n",
       "PENNSYLVANIA            100382\n",
       "FLORIDA                  96796\n",
       "GEORGIA                  94016\n",
       "WASHINGTON               91744\n",
       "VIRGINIA                 80834\n",
       "MICHIGAN                 74169\n",
       "NORTH CAROLINA           72046\n",
       "OHIO                     69730\n",
       "MARYLAND                 49680\n",
       "CONNECTICUT              45642\n",
       "MINNESOTA                44648\n",
       "ARIZONA                  37908\n",
       "MISSOURI                 30901\n",
       "WISCONSIN                29784\n",
       "COLORADO                 27990\n",
       "INDIANA                  26510\n",
       "TENNESSEE                24574\n",
       "OREGON                   21361\n",
       "DISTRICT OF COLUMBIA     20347\n",
       "DELAWARE                 16177\n",
       "IOWA                     14773\n",
       "ARKANSAS                 13579\n",
       "KANSAS                   12349\n",
       "UTAH                     11857\n",
       "SOUTH CAROLINA           11620\n",
       "KENTUCKY                 11608\n",
       "RHODE ISLAND             10943\n",
       "LOUISIANA                10278\n",
       "OKLAHOMA                  9467\n",
       "ALABAMA                   9071\n",
       "NEW HAMPSHIRE             8879\n",
       "NEBRASKA                  8146\n",
       "NEVADA                    6607\n",
       "NEW MEXICO                4980\n",
       "MISSISSIPPI               3801\n",
       "IDAHO                     3647\n",
       "MAINE                     3627\n",
       "NA                        3384\n",
       "HAWAII                    3331\n",
       "NORTH DAKOTA              2588\n",
       "WEST VIRGINIA             2561\n",
       "VERMONT                   1771\n",
       "SOUTH DAKOTA              1694\n",
       "PUERTO RICO               1364\n",
       "ALASKA                    1220\n",
       "MONTANA                    882\n",
       "WYOMING                    724\n",
       "Name: STATE, dtype: int64"
      ]
     },
     "execution_count": 24,
     "metadata": {},
     "output_type": "execute_result"
    }
   ],
   "source": [
    "h1b_2['STATE'].value_counts()"
   ]
  },
  {
   "cell_type": "markdown",
   "metadata": {},
   "source": [
    "Then I dealt with the target variable 'CASE_STATUS' by classifing 'CERTIFIED' into 1, and 'DENIED' into 0."
   ]
  },
  {
   "cell_type": "code",
   "execution_count": 25,
   "metadata": {},
   "outputs": [],
   "source": [
    "class_mapping = {'CERTIFIED':1, 'DENIED':0}\n",
    "h1b_2['CASE_STATUS'] = h1b_2['CASE_STATUS'].map(class_mapping)"
   ]
  },
  {
   "cell_type": "markdown",
   "metadata": {},
   "source": [
    "The next thing is to drop features I don't need."
   ]
  },
  {
   "cell_type": "code",
   "execution_count": 26,
   "metadata": {},
   "outputs": [],
   "source": [
    "h1b_2 = h1b_2.drop('EMPLOYER_NAME', axis = 1)\n",
    "h1b_2 = h1b_2.drop('SOC_NAME', axis = 1)\n",
    "h1b_2 = h1b_2.drop('JOB_TITLE', axis = 1)\n",
    "h1b_2 = h1b_2.drop('WORKSITE', axis = 1)"
   ]
  },
  {
   "cell_type": "code",
   "execution_count": 27,
   "metadata": {},
   "outputs": [
    {
     "name": "stdout",
     "output_type": "stream",
     "text": [
      "<class 'pandas.core.frame.DataFrame'>\n",
      "Int64Index: 2694002 entries, 0 to 2709968\n",
      "Data columns (total 7 columns):\n",
      "CASE_STATUS           int64\n",
      "FULL_TIME_POSITION    object\n",
      "PREVAILING_WAGE       float64\n",
      "YEAR                  int64\n",
      "EMPLOYER_TYPE         object\n",
      "OCCUPATION            object\n",
      "STATE                 object\n",
      "dtypes: float64(1), int64(2), object(4)\n",
      "memory usage: 244.4+ MB\n"
     ]
    }
   ],
   "source": [
    "h1b_2.info()"
   ]
  },
  {
   "cell_type": "code",
   "execution_count": 28,
   "metadata": {},
   "outputs": [],
   "source": [
    "h1b_2[['CASE_STATUS', 'FULL_TIME_POSITION', 'YEAR','EMPLOYER_TYPE','OCCUPATION','STATE']] = h1b_2[['CASE_STATUS', 'FULL_TIME_POSITION', 'YEAR','EMPLOYER_TYPE','OCCUPATION','STATE']].apply(lambda x: x.astype('category'))"
   ]
  },
  {
   "cell_type": "code",
   "execution_count": 29,
   "metadata": {},
   "outputs": [
    {
     "name": "stdout",
     "output_type": "stream",
     "text": [
      "<class 'pandas.core.frame.DataFrame'>\n",
      "Int64Index: 2694002 entries, 0 to 2709968\n",
      "Data columns (total 7 columns):\n",
      "CASE_STATUS           category\n",
      "FULL_TIME_POSITION    category\n",
      "PREVAILING_WAGE       float64\n",
      "YEAR                  category\n",
      "EMPLOYER_TYPE         category\n",
      "OCCUPATION            category\n",
      "STATE                 category\n",
      "dtypes: category(6), float64(1)\n",
      "memory usage: 136.5 MB\n"
     ]
    }
   ],
   "source": [
    "h1b_2.info()"
   ]
  },
  {
   "cell_type": "markdown",
   "metadata": {},
   "source": [
    "### 4.2 Resampling"
   ]
  },
  {
   "cell_type": "markdown",
   "metadata": {},
   "source": [
    "As I mentioned before, it is a imbalanced dataset and may need casuse bad model performace. In order to deal with it, I would randomly downsampling the dataset. After downsampling, the datasize will be 187522 with balanced CASE_STATUS."
   ]
  },
  {
   "cell_type": "code",
   "execution_count": 30,
   "metadata": {},
   "outputs": [
    {
     "data": {
      "text/plain": [
       "1    2600241\n",
       "0      93761\n",
       "Name: CASE_STATUS, dtype: int64"
      ]
     },
     "execution_count": 30,
     "metadata": {},
     "output_type": "execute_result"
    }
   ],
   "source": [
    "h1b_2.CASE_STATUS.value_counts()"
   ]
  },
  {
   "cell_type": "code",
   "execution_count": 31,
   "metadata": {},
   "outputs": [],
   "source": [
    "from sklearn.utils import resample\n",
    "h1b_2_majority = h1b_2[h1b_2.CASE_STATUS==1]\n",
    "h1b_2_minority = h1b_2[h1b_2.CASE_STATUS==0]\n",
    " \n",
    "# Downsample majority class\n",
    "h1b_2_majority_downsampled = resample(h1b_2_majority, \n",
    "                                      replace=False,       # sample without replacement\n",
    "                                      n_samples=93761,     # to match minority class\n",
    "                                      random_state=123)    # reproducible results\n",
    " \n",
    "# Combine minority class with downsampled majority class\n",
    "h1b_2_downsampled = pd.concat([h1b_2_majority_downsampled, h1b_2_minority])"
   ]
  },
  {
   "cell_type": "code",
   "execution_count": 32,
   "metadata": {},
   "outputs": [
    {
     "data": {
      "text/plain": [
       "1    93761\n",
       "0    93761\n",
       "Name: CASE_STATUS, dtype: int64"
      ]
     },
     "execution_count": 32,
     "metadata": {},
     "output_type": "execute_result"
    }
   ],
   "source": [
    "h1b_2_downsampled.CASE_STATUS.value_counts()"
   ]
  },
  {
   "cell_type": "code",
   "execution_count": 33,
   "metadata": {},
   "outputs": [
    {
     "data": {
      "text/html": [
       "<div>\n",
       "<style scoped>\n",
       "    .dataframe tbody tr th:only-of-type {\n",
       "        vertical-align: middle;\n",
       "    }\n",
       "\n",
       "    .dataframe tbody tr th {\n",
       "        vertical-align: top;\n",
       "    }\n",
       "\n",
       "    .dataframe thead th {\n",
       "        text-align: right;\n",
       "    }\n",
       "</style>\n",
       "<table border=\"1\" class=\"dataframe\">\n",
       "  <thead>\n",
       "    <tr style=\"text-align: right;\">\n",
       "      <th></th>\n",
       "      <th>CASE_STATUS</th>\n",
       "      <th>FULL_TIME_POSITION</th>\n",
       "      <th>PREVAILING_WAGE</th>\n",
       "      <th>YEAR</th>\n",
       "      <th>EMPLOYER_TYPE</th>\n",
       "      <th>OCCUPATION</th>\n",
       "      <th>STATE</th>\n",
       "    </tr>\n",
       "  </thead>\n",
       "  <tbody>\n",
       "    <tr>\n",
       "      <th>667607</th>\n",
       "      <td>1</td>\n",
       "      <td>Y</td>\n",
       "      <td>63506.0</td>\n",
       "      <td>2015</td>\n",
       "      <td>UNIVERSITY</td>\n",
       "      <td>MEDICAL</td>\n",
       "      <td>PENNSYLVANIA</td>\n",
       "    </tr>\n",
       "    <tr>\n",
       "      <th>2245746</th>\n",
       "      <td>1</td>\n",
       "      <td>Y</td>\n",
       "      <td>99653.0</td>\n",
       "      <td>2012</td>\n",
       "      <td>COMPANY</td>\n",
       "      <td>COMPUTER</td>\n",
       "      <td>CALIFORNIA</td>\n",
       "    </tr>\n",
       "    <tr>\n",
       "      <th>71246</th>\n",
       "      <td>1</td>\n",
       "      <td>Y</td>\n",
       "      <td>93059.2</td>\n",
       "      <td>2016</td>\n",
       "      <td>COMPANY</td>\n",
       "      <td>ADVANCE SCIENCE</td>\n",
       "      <td>TENNESSEE</td>\n",
       "    </tr>\n",
       "    <tr>\n",
       "      <th>1688566</th>\n",
       "      <td>1</td>\n",
       "      <td>Y</td>\n",
       "      <td>62275.0</td>\n",
       "      <td>2013</td>\n",
       "      <td>COMPANY</td>\n",
       "      <td>COMPUTER</td>\n",
       "      <td>ARIZONA</td>\n",
       "    </tr>\n",
       "    <tr>\n",
       "      <th>1777733</th>\n",
       "      <td>1</td>\n",
       "      <td>Y</td>\n",
       "      <td>100984.0</td>\n",
       "      <td>2013</td>\n",
       "      <td>COMPANY</td>\n",
       "      <td>COMPUTER</td>\n",
       "      <td>CALIFORNIA</td>\n",
       "    </tr>\n",
       "  </tbody>\n",
       "</table>\n",
       "</div>"
      ],
      "text/plain": [
       "        CASE_STATUS FULL_TIME_POSITION  PREVAILING_WAGE  YEAR EMPLOYER_TYPE  \\\n",
       "667607            1                  Y          63506.0  2015    UNIVERSITY   \n",
       "2245746           1                  Y          99653.0  2012       COMPANY   \n",
       "71246             1                  Y          93059.2  2016       COMPANY   \n",
       "1688566           1                  Y          62275.0  2013       COMPANY   \n",
       "1777733           1                  Y         100984.0  2013       COMPANY   \n",
       "\n",
       "              OCCUPATION         STATE  \n",
       "667607           MEDICAL  PENNSYLVANIA  \n",
       "2245746         COMPUTER    CALIFORNIA  \n",
       "71246    ADVANCE SCIENCE     TENNESSEE  \n",
       "1688566         COMPUTER       ARIZONA  \n",
       "1777733         COMPUTER    CALIFORNIA  "
      ]
     },
     "execution_count": 33,
     "metadata": {},
     "output_type": "execute_result"
    }
   ],
   "source": [
    "h1b_2_downsampled.head()"
   ]
  },
  {
   "cell_type": "code",
   "execution_count": 34,
   "metadata": {},
   "outputs": [
    {
     "data": {
      "text/plain": [
       "CASE_STATUS           0\n",
       "FULL_TIME_POSITION    0\n",
       "PREVAILING_WAGE       0\n",
       "YEAR                  0\n",
       "EMPLOYER_TYPE         0\n",
       "OCCUPATION            0\n",
       "STATE                 0\n",
       "dtype: int64"
      ]
     },
     "execution_count": 34,
     "metadata": {},
     "output_type": "execute_result"
    }
   ],
   "source": [
    "h1b_2_downsampled.isnull().sum()"
   ]
  },
  {
   "cell_type": "markdown",
   "metadata": {},
   "source": [
    "### 4.3 Cross Validation"
   ]
  },
  {
   "cell_type": "markdown",
   "metadata": {},
   "source": [
    "In order to evaluate model performance in a more accurate way, I created cross validation by seperating the downsampling dataset into train(70%） & test（30%） dataset. "
   ]
  },
  {
   "cell_type": "code",
   "execution_count": 35,
   "metadata": {},
   "outputs": [
    {
     "data": {
      "text/plain": [
       "(131265, 6)"
      ]
     },
     "execution_count": 35,
     "metadata": {},
     "output_type": "execute_result"
    }
   ],
   "source": [
    "X = h1b_2_downsampled.drop('CASE_STATUS', axis=1)\n",
    "y = h1b_2_downsampled.CASE_STATUS\n",
    "\n",
    "X_train, X_test, y_train, y_test = train_test_split(X, y, test_size=0.3, random_state=123)\n",
    "X_train.shape"
   ]
  },
  {
   "cell_type": "code",
   "execution_count": 36,
   "metadata": {},
   "outputs": [
    {
     "data": {
      "text/plain": [
       "FULL_TIME_POSITION    0\n",
       "PREVAILING_WAGE       0\n",
       "YEAR                  0\n",
       "EMPLOYER_TYPE         0\n",
       "OCCUPATION            0\n",
       "STATE                 0\n",
       "dtype: int64"
      ]
     },
     "execution_count": 36,
     "metadata": {},
     "output_type": "execute_result"
    }
   ],
   "source": [
    "X_train.isnull().sum()"
   ]
  },
  {
   "cell_type": "code",
   "execution_count": 37,
   "metadata": {},
   "outputs": [
    {
     "data": {
      "text/plain": [
       "FULL_TIME_POSITION    category\n",
       "PREVAILING_WAGE        float64\n",
       "YEAR                  category\n",
       "EMPLOYER_TYPE         category\n",
       "OCCUPATION            category\n",
       "STATE                 category\n",
       "dtype: object"
      ]
     },
     "execution_count": 37,
     "metadata": {},
     "output_type": "execute_result"
    }
   ],
   "source": [
    "X_train.dtypes"
   ]
  },
  {
   "cell_type": "code",
   "execution_count": 38,
   "metadata": {},
   "outputs": [
    {
     "data": {
      "text/plain": [
       "0"
      ]
     },
     "execution_count": 38,
     "metadata": {},
     "output_type": "execute_result"
    }
   ],
   "source": [
    "y_train.isnull().sum()"
   ]
  },
  {
   "cell_type": "code",
   "execution_count": 39,
   "metadata": {},
   "outputs": [
    {
     "data": {
      "text/plain": [
       "FULL_TIME_POSITION    0\n",
       "PREVAILING_WAGE       0\n",
       "YEAR                  0\n",
       "EMPLOYER_TYPE         0\n",
       "OCCUPATION            0\n",
       "STATE                 0\n",
       "dtype: int64"
      ]
     },
     "execution_count": 39,
     "metadata": {},
     "output_type": "execute_result"
    }
   ],
   "source": [
    "X_test.isnull().sum()"
   ]
  },
  {
   "cell_type": "code",
   "execution_count": 40,
   "metadata": {},
   "outputs": [],
   "source": [
    "X_train = pd.get_dummies(X_train)\n",
    "X_test = pd.get_dummies(X_test)"
   ]
  },
  {
   "cell_type": "code",
   "execution_count": 41,
   "metadata": {},
   "outputs": [
    {
     "data": {
      "text/html": [
       "<div>\n",
       "<style scoped>\n",
       "    .dataframe tbody tr th:only-of-type {\n",
       "        vertical-align: middle;\n",
       "    }\n",
       "\n",
       "    .dataframe tbody tr th {\n",
       "        vertical-align: top;\n",
       "    }\n",
       "\n",
       "    .dataframe thead th {\n",
       "        text-align: right;\n",
       "    }\n",
       "</style>\n",
       "<table border=\"1\" class=\"dataframe\">\n",
       "  <thead>\n",
       "    <tr style=\"text-align: right;\">\n",
       "      <th></th>\n",
       "      <th>PREVAILING_WAGE</th>\n",
       "      <th>FULL_TIME_POSITION_N</th>\n",
       "      <th>FULL_TIME_POSITION_Y</th>\n",
       "      <th>YEAR_2011</th>\n",
       "      <th>YEAR_2012</th>\n",
       "      <th>YEAR_2013</th>\n",
       "      <th>YEAR_2014</th>\n",
       "      <th>YEAR_2015</th>\n",
       "      <th>YEAR_2016</th>\n",
       "      <th>EMPLOYER_TYPE_COMPANY</th>\n",
       "      <th>...</th>\n",
       "      <th>STATE_SOUTH DAKOTA</th>\n",
       "      <th>STATE_TENNESSEE</th>\n",
       "      <th>STATE_TEXAS</th>\n",
       "      <th>STATE_UTAH</th>\n",
       "      <th>STATE_VERMONT</th>\n",
       "      <th>STATE_VIRGINIA</th>\n",
       "      <th>STATE_WASHINGTON</th>\n",
       "      <th>STATE_WEST VIRGINIA</th>\n",
       "      <th>STATE_WISCONSIN</th>\n",
       "      <th>STATE_WYOMING</th>\n",
       "    </tr>\n",
       "  </thead>\n",
       "  <tbody>\n",
       "    <tr>\n",
       "      <th>27489</th>\n",
       "      <td>134888.0</td>\n",
       "      <td>0</td>\n",
       "      <td>1</td>\n",
       "      <td>0</td>\n",
       "      <td>0</td>\n",
       "      <td>0</td>\n",
       "      <td>0</td>\n",
       "      <td>0</td>\n",
       "      <td>1</td>\n",
       "      <td>1</td>\n",
       "      <td>...</td>\n",
       "      <td>0</td>\n",
       "      <td>0</td>\n",
       "      <td>1</td>\n",
       "      <td>0</td>\n",
       "      <td>0</td>\n",
       "      <td>0</td>\n",
       "      <td>0</td>\n",
       "      <td>0</td>\n",
       "      <td>0</td>\n",
       "      <td>0</td>\n",
       "    </tr>\n",
       "    <tr>\n",
       "      <th>2678047</th>\n",
       "      <td>58531.0</td>\n",
       "      <td>0</td>\n",
       "      <td>1</td>\n",
       "      <td>1</td>\n",
       "      <td>0</td>\n",
       "      <td>0</td>\n",
       "      <td>0</td>\n",
       "      <td>0</td>\n",
       "      <td>0</td>\n",
       "      <td>1</td>\n",
       "      <td>...</td>\n",
       "      <td>0</td>\n",
       "      <td>0</td>\n",
       "      <td>0</td>\n",
       "      <td>0</td>\n",
       "      <td>0</td>\n",
       "      <td>0</td>\n",
       "      <td>0</td>\n",
       "      <td>0</td>\n",
       "      <td>0</td>\n",
       "      <td>0</td>\n",
       "    </tr>\n",
       "    <tr>\n",
       "      <th>1746846</th>\n",
       "      <td>37336.0</td>\n",
       "      <td>0</td>\n",
       "      <td>1</td>\n",
       "      <td>0</td>\n",
       "      <td>0</td>\n",
       "      <td>1</td>\n",
       "      <td>0</td>\n",
       "      <td>0</td>\n",
       "      <td>0</td>\n",
       "      <td>1</td>\n",
       "      <td>...</td>\n",
       "      <td>0</td>\n",
       "      <td>0</td>\n",
       "      <td>0</td>\n",
       "      <td>0</td>\n",
       "      <td>0</td>\n",
       "      <td>0</td>\n",
       "      <td>0</td>\n",
       "      <td>0</td>\n",
       "      <td>0</td>\n",
       "      <td>0</td>\n",
       "    </tr>\n",
       "    <tr>\n",
       "      <th>2120573</th>\n",
       "      <td>80960.0</td>\n",
       "      <td>0</td>\n",
       "      <td>1</td>\n",
       "      <td>0</td>\n",
       "      <td>1</td>\n",
       "      <td>0</td>\n",
       "      <td>0</td>\n",
       "      <td>0</td>\n",
       "      <td>0</td>\n",
       "      <td>1</td>\n",
       "      <td>...</td>\n",
       "      <td>0</td>\n",
       "      <td>0</td>\n",
       "      <td>0</td>\n",
       "      <td>0</td>\n",
       "      <td>0</td>\n",
       "      <td>0</td>\n",
       "      <td>0</td>\n",
       "      <td>0</td>\n",
       "      <td>0</td>\n",
       "      <td>0</td>\n",
       "    </tr>\n",
       "    <tr>\n",
       "      <th>1954128</th>\n",
       "      <td>50950.0</td>\n",
       "      <td>0</td>\n",
       "      <td>1</td>\n",
       "      <td>0</td>\n",
       "      <td>0</td>\n",
       "      <td>1</td>\n",
       "      <td>0</td>\n",
       "      <td>0</td>\n",
       "      <td>0</td>\n",
       "      <td>0</td>\n",
       "      <td>...</td>\n",
       "      <td>0</td>\n",
       "      <td>0</td>\n",
       "      <td>0</td>\n",
       "      <td>0</td>\n",
       "      <td>0</td>\n",
       "      <td>0</td>\n",
       "      <td>0</td>\n",
       "      <td>0</td>\n",
       "      <td>0</td>\n",
       "      <td>0</td>\n",
       "    </tr>\n",
       "  </tbody>\n",
       "</table>\n",
       "<p>5 rows × 74 columns</p>\n",
       "</div>"
      ],
      "text/plain": [
       "         PREVAILING_WAGE  FULL_TIME_POSITION_N  FULL_TIME_POSITION_Y  \\\n",
       "27489           134888.0                     0                     1   \n",
       "2678047          58531.0                     0                     1   \n",
       "1746846          37336.0                     0                     1   \n",
       "2120573          80960.0                     0                     1   \n",
       "1954128          50950.0                     0                     1   \n",
       "\n",
       "         YEAR_2011  YEAR_2012  YEAR_2013  YEAR_2014  YEAR_2015  YEAR_2016  \\\n",
       "27489            0          0          0          0          0          1   \n",
       "2678047          1          0          0          0          0          0   \n",
       "1746846          0          0          1          0          0          0   \n",
       "2120573          0          1          0          0          0          0   \n",
       "1954128          0          0          1          0          0          0   \n",
       "\n",
       "         EMPLOYER_TYPE_COMPANY  ...  STATE_SOUTH DAKOTA  STATE_TENNESSEE  \\\n",
       "27489                        1  ...                   0                0   \n",
       "2678047                      1  ...                   0                0   \n",
       "1746846                      1  ...                   0                0   \n",
       "2120573                      1  ...                   0                0   \n",
       "1954128                      0  ...                   0                0   \n",
       "\n",
       "         STATE_TEXAS  STATE_UTAH  STATE_VERMONT  STATE_VIRGINIA  \\\n",
       "27489              1           0              0               0   \n",
       "2678047            0           0              0               0   \n",
       "1746846            0           0              0               0   \n",
       "2120573            0           0              0               0   \n",
       "1954128            0           0              0               0   \n",
       "\n",
       "         STATE_WASHINGTON  STATE_WEST VIRGINIA  STATE_WISCONSIN  STATE_WYOMING  \n",
       "27489                   0                    0                0              0  \n",
       "2678047                 0                    0                0              0  \n",
       "1746846                 0                    0                0              0  \n",
       "2120573                 0                    0                0              0  \n",
       "1954128                 0                    0                0              0  \n",
       "\n",
       "[5 rows x 74 columns]"
      ]
     },
     "execution_count": 41,
     "metadata": {},
     "output_type": "execute_result"
    }
   ],
   "source": [
    "X_train.head()"
   ]
  },
  {
   "cell_type": "markdown",
   "metadata": {},
   "source": [
    "### 4.4 Naive Bayes Classifier"
   ]
  },
  {
   "cell_type": "markdown",
   "metadata": {},
   "source": [
    "The first model I chose is Naive Bayes Model. It is used to estimate the probability of the target variable 'CASE_STATUS' given features I selected. To evaluate the performance of this model, I construted the confusion matrix and reported the precision, recall, F1-score. It can be found that the precision for this model is 0.75 on average. The recall is only 0.51 and the F1-score is barely 0.36. And in order to better judge its performance, I also created ROC plot and calculated the AUC. The auc of this model is only 0.51, so the performance of this model is not very well."
   ]
  },
  {
   "cell_type": "code",
   "execution_count": 42,
   "metadata": {},
   "outputs": [
    {
     "name": "stdout",
     "output_type": "stream",
     "text": [
      "[[  566 27426]\n",
      " [    1 28264]]\n",
      "             precision    recall  f1-score   support\n",
      "\n",
      "          0       1.00      0.02      0.04     27992\n",
      "          1       0.51      1.00      0.67     28265\n",
      "\n",
      "avg / total       0.75      0.51      0.36     56257\n",
      "\n"
     ]
    }
   ],
   "source": [
    "NB = GaussianNB()\n",
    "NB.fit(X_train, y_train)\n",
    "y_pred_NB = NB.predict(X_test)\n",
    "print(metrics.confusion_matrix(y_test, y_pred_NB))\n",
    "print(metrics.classification_report(y_test, y_pred_NB))\n"
   ]
  },
  {
   "cell_type": "code",
   "execution_count": 43,
   "metadata": {},
   "outputs": [
    {
     "name": "stdout",
     "output_type": "stream",
     "text": [
      "AUC: 0.5100923417152822\n"
     ]
    },
    {
     "data": {
      "image/png": "[encoded data removed]",
      "text/plain": [
       "<Figure size 432x288 with 1 Axes>"
      ]
     },
     "metadata": {
      "needs_background": "light"
     },
     "output_type": "display_data"
    }
   ],
   "source": [
    "fpr_NB, tpr_NB, thresholds = metrics.roc_curve(y_test, y_pred_NB)\n",
    "print('AUC:',metrics.auc(fpr_NB, tpr_NB))\n",
    "auc_NB = np.trapz(tpr_NB,fpr_NB)\n",
    "plt.plot(fpr_NB,tpr_NB,label=\" auc=\"+str(auc_NB))\n",
    "plt.legend(loc=4)\n",
    "plt.title('ROC for Naive Bayes')\n",
    "plt.show()"
   ]
  },
  {
   "cell_type": "markdown",
   "metadata": {},
   "source": [
    "### 4.5 Decision Trees Model"
   ]
  },
  {
   "cell_type": "markdown",
   "metadata": {},
   "source": [
    "Decision Trees is the second model I applied to predict the outcome of 'CASE_STATUS'. According to the confusion matrix and classification report, the precision, recall, and F1-score for this model are all 0.67 on average. Meantime, the ROC curve below shows that the AUC is 0.67. Compared with the first model, it performs much better. \n",
    "\n",
    "And I also showed tha feature importance. It can be found that PREVAILING_WAGE, OCCUPATION_COMPUTER, YEAR_2011, YEAR_2012, STATE_CALIFORNIA are the top 5 important features."
   ]
  },
  {
   "cell_type": "code",
   "execution_count": 44,
   "metadata": {},
   "outputs": [],
   "source": [
    "Dtree = tree.DecisionTreeClassifier(random_state = 123)\n",
    "Dtree = Dtree.fit(X_train, y_train) "
   ]
  },
  {
   "cell_type": "code",
   "execution_count": 45,
   "metadata": {},
   "outputs": [
    {
     "name": "stdout",
     "output_type": "stream",
     "text": [
      "[[18505  9487]\n",
      " [ 9150 19115]]\n",
      "             precision    recall  f1-score   support\n",
      "\n",
      "          0       0.67      0.66      0.67     27992\n",
      "          1       0.67      0.68      0.67     28265\n",
      "\n",
      "avg / total       0.67      0.67      0.67     56257\n",
      "\n"
     ]
    }
   ],
   "source": [
    "y_pred_D = Dtree.predict(X_test)\n",
    "print(metrics.confusion_matrix(y_test,y_pred_D))\n",
    "print(metrics.classification_report(y_test, y_pred_D))"
   ]
  },
  {
   "cell_type": "code",
   "execution_count": 46,
   "metadata": {},
   "outputs": [
    {
     "name": "stdout",
     "output_type": "stream",
     "text": [
      "AUC: 0.6686799100367156\n"
     ]
    },
    {
     "data": {
      "image/png": "[encoded data removed]",
      "text/plain": [
       "<Figure size 432x288 with 1 Axes>"
      ]
     },
     "metadata": {
      "needs_background": "light"
     },
     "output_type": "display_data"
    }
   ],
   "source": [
    "fpr_D, tpr_D, thresholds = metrics.roc_curve(y_test, y_pred_D)\n",
    "print('AUC:',metrics.auc(fpr_D, tpr_D))\n",
    "auc_D = np.trapz(tpr_D,fpr_D)\n",
    "plt.plot(fpr_D,tpr_D,label=\" auc=\"+str(auc_D))\n",
    "plt.legend(loc=4)\n",
    "plt.title('ROC for Decision Trees')\n",
    "plt.show()"
   ]
  },
  {
   "cell_type": "code",
   "execution_count": 47,
   "metadata": {},
   "outputs": [
    {
     "data": {
      "text/html": [
       "<div>\n",
       "<style scoped>\n",
       "    .dataframe tbody tr th:only-of-type {\n",
       "        vertical-align: middle;\n",
       "    }\n",
       "\n",
       "    .dataframe tbody tr th {\n",
       "        vertical-align: top;\n",
       "    }\n",
       "\n",
       "    .dataframe thead th {\n",
       "        text-align: right;\n",
       "    }\n",
       "</style>\n",
       "<table border=\"1\" class=\"dataframe\">\n",
       "  <thead>\n",
       "    <tr style=\"text-align: right;\">\n",
       "      <th></th>\n",
       "      <th>importance</th>\n",
       "    </tr>\n",
       "  </thead>\n",
       "  <tbody>\n",
       "    <tr>\n",
       "      <th>PREVAILING_WAGE</th>\n",
       "      <td>0.486097</td>\n",
       "    </tr>\n",
       "    <tr>\n",
       "      <th>OCCUPATION_COMPUTER</th>\n",
       "      <td>0.130576</td>\n",
       "    </tr>\n",
       "    <tr>\n",
       "      <th>YEAR_2011</th>\n",
       "      <td>0.053344</td>\n",
       "    </tr>\n",
       "    <tr>\n",
       "      <th>YEAR_2012</th>\n",
       "      <td>0.028598</td>\n",
       "    </tr>\n",
       "    <tr>\n",
       "      <th>STATE_CALIFORNIA</th>\n",
       "      <td>0.013797</td>\n",
       "    </tr>\n",
       "    <tr>\n",
       "      <th>STATE_TEXAS</th>\n",
       "      <td>0.013451</td>\n",
       "    </tr>\n",
       "    <tr>\n",
       "      <th>STATE_NEW YORK</th>\n",
       "      <td>0.012854</td>\n",
       "    </tr>\n",
       "    <tr>\n",
       "      <th>OCCUPATION_OTHER</th>\n",
       "      <td>0.010493</td>\n",
       "    </tr>\n",
       "    <tr>\n",
       "      <th>STATE_NEW JERSEY</th>\n",
       "      <td>0.009555</td>\n",
       "    </tr>\n",
       "    <tr>\n",
       "      <th>STATE_MASSACHUSETTS</th>\n",
       "      <td>0.009393</td>\n",
       "    </tr>\n",
       "  </tbody>\n",
       "</table>\n",
       "</div>"
      ],
      "text/plain": [
       "                     importance\n",
       "PREVAILING_WAGE        0.486097\n",
       "OCCUPATION_COMPUTER    0.130576\n",
       "YEAR_2011              0.053344\n",
       "YEAR_2012              0.028598\n",
       "STATE_CALIFORNIA       0.013797\n",
       "STATE_TEXAS            0.013451\n",
       "STATE_NEW YORK         0.012854\n",
       "OCCUPATION_OTHER       0.010493\n",
       "STATE_NEW JERSEY       0.009555\n",
       "STATE_MASSACHUSETTS    0.009393"
      ]
     },
     "execution_count": 47,
     "metadata": {},
     "output_type": "execute_result"
    }
   ],
   "source": [
    "feature_importances_Dtree = pd.DataFrame(Dtree.feature_importances_,\n",
    "                                   index = X_train.columns,\n",
    "                                    columns=['importance']).sort_values('importance',ascending=False)\n",
    "\n",
    "feature_importances_Dtree.head(10)"
   ]
  },
  {
   "cell_type": "markdown",
   "metadata": {},
   "source": [
    "### 4.6 Random Forest"
   ]
  },
  {
   "cell_type": "markdown",
   "metadata": {},
   "source": [
    "From experience, random forest based on many decision trees and each of these decision tree takes a subset of independent variables randomly. In this way, the diversity increases and a more robust prediction result can be achieved. \n",
    "\n",
    "However, the precision, recall, F1-score both stay the same with Decision Trees model. And the AUC is 0.673, a little higher than Decision Trees model. \n",
    "\n",
    "Different from the decision trees, PREVAILING_WAGE, OCCUPATION_COMPUTER, YEAR_2011, OCCUPATION_OTHER, YEAR_2016 are the top 5 important features."
   ]
  },
  {
   "cell_type": "code",
   "execution_count": 48,
   "metadata": {},
   "outputs": [
    {
     "name": "stdout",
     "output_type": "stream",
     "text": [
      "[[18018  9974]\n",
      " [ 8411 19854]]\n",
      "             precision    recall  f1-score   support\n",
      "\n",
      "          0       0.68      0.64      0.66     27992\n",
      "          1       0.67      0.70      0.68     28265\n",
      "\n",
      "avg / total       0.67      0.67      0.67     56257\n",
      "\n"
     ]
    }
   ],
   "source": [
    "rf = RandomForestClassifier(n_estimators = 50, random_state = 123)\n",
    "rf.fit(X_train, y_train)\n",
    "\n",
    "y_pred_rf =  rf.predict(X_test)\n",
    "\n",
    "print(metrics.confusion_matrix(y_test,y_pred_rf))\n",
    "print(metrics.classification_report(y_test, y_pred_rf))"
   ]
  },
  {
   "cell_type": "code",
   "execution_count": 49,
   "metadata": {},
   "outputs": [
    {
     "data": {
      "text/html": [
       "<div>\n",
       "<style scoped>\n",
       "    .dataframe tbody tr th:only-of-type {\n",
       "        vertical-align: middle;\n",
       "    }\n",
       "\n",
       "    .dataframe tbody tr th {\n",
       "        vertical-align: top;\n",
       "    }\n",
       "\n",
       "    .dataframe thead th {\n",
       "        text-align: right;\n",
       "    }\n",
       "</style>\n",
       "<table border=\"1\" class=\"dataframe\">\n",
       "  <thead>\n",
       "    <tr style=\"text-align: right;\">\n",
       "      <th></th>\n",
       "      <th>importance</th>\n",
       "    </tr>\n",
       "  </thead>\n",
       "  <tbody>\n",
       "    <tr>\n",
       "      <th>PREVAILING_WAGE</th>\n",
       "      <td>0.650170</td>\n",
       "    </tr>\n",
       "    <tr>\n",
       "      <th>OCCUPATION_COMPUTER</th>\n",
       "      <td>0.064475</td>\n",
       "    </tr>\n",
       "    <tr>\n",
       "      <th>YEAR_2011</th>\n",
       "      <td>0.047463</td>\n",
       "    </tr>\n",
       "    <tr>\n",
       "      <th>OCCUPATION_OTHER</th>\n",
       "      <td>0.025399</td>\n",
       "    </tr>\n",
       "    <tr>\n",
       "      <th>YEAR_2016</th>\n",
       "      <td>0.019620</td>\n",
       "    </tr>\n",
       "    <tr>\n",
       "      <th>YEAR_2012</th>\n",
       "      <td>0.013694</td>\n",
       "    </tr>\n",
       "    <tr>\n",
       "      <th>YEAR_2015</th>\n",
       "      <td>0.012275</td>\n",
       "    </tr>\n",
       "    <tr>\n",
       "      <th>YEAR_2014</th>\n",
       "      <td>0.006173</td>\n",
       "    </tr>\n",
       "    <tr>\n",
       "      <th>FULL_TIME_POSITION_Y</th>\n",
       "      <td>0.005654</td>\n",
       "    </tr>\n",
       "    <tr>\n",
       "      <th>FULL_TIME_POSITION_N</th>\n",
       "      <td>0.005552</td>\n",
       "    </tr>\n",
       "  </tbody>\n",
       "</table>\n",
       "</div>"
      ],
      "text/plain": [
       "                      importance\n",
       "PREVAILING_WAGE         0.650170\n",
       "OCCUPATION_COMPUTER     0.064475\n",
       "YEAR_2011               0.047463\n",
       "OCCUPATION_OTHER        0.025399\n",
       "YEAR_2016               0.019620\n",
       "YEAR_2012               0.013694\n",
       "YEAR_2015               0.012275\n",
       "YEAR_2014               0.006173\n",
       "FULL_TIME_POSITION_Y    0.005654\n",
       "FULL_TIME_POSITION_N    0.005552"
      ]
     },
     "execution_count": 49,
     "metadata": {},
     "output_type": "execute_result"
    }
   ],
   "source": [
    "import pandas as pd\n",
    "feature_importances_rf = pd.DataFrame(rf.feature_importances_,\n",
    "                                   index = X_train.columns,\n",
    "                                    columns=['importance']).sort_values('importance',ascending=False)\n",
    "\n",
    "feature_importances_rf.head(10)"
   ]
  },
  {
   "cell_type": "code",
   "execution_count": 50,
   "metadata": {},
   "outputs": [
    {
     "name": "stdout",
     "output_type": "stream",
     "text": [
      "AUC: 0.6730537008198294\n"
     ]
    },
    {
     "data": {
      "image/png": "[encoded data removed]",
      "text/plain": [
       "<Figure size 432x288 with 1 Axes>"
      ]
     },
     "metadata": {
      "needs_background": "light"
     },
     "output_type": "display_data"
    }
   ],
   "source": [
    "fpr_rf, tpr_rf, thresholds = metrics.roc_curve(y_test, y_pred_rf)\n",
    "print('AUC:',metrics.auc(fpr_rf, tpr_rf))\n",
    "auc_rf = np.trapz(tpr_rf,fpr_rf)\n",
    "plt.plot(fpr_rf,tpr_rf,label=\" auc=\"+str(auc_rf))\n",
    "plt.legend(loc=4)\n",
    "plt.title('ROC for Random Forest')\n",
    "plt.show()"
   ]
  },
  {
   "cell_type": "markdown",
   "metadata": {},
   "source": [
    "### 4.6 Model Tuning"
   ]
  },
  {
   "cell_type": "markdown",
   "metadata": {},
   "source": [
    "For decision trees, I tried to tune it by changing the max_depth and min_sample_leaf. When I changed max_depth and min_sample_leaf to 13, the precision, recall, F1-score both increased to 0.687. And the AUC also increased to 0.687. \n",
    "\n",
    "The feature importance changed. OCCUPATION_COMPUTER, PREVAILING_WAGE, YEAR_2011, YEAR_2012,OCCUPATION_OTHER, YEAR_2016 are the top 5 important features."
   ]
  },
  {
   "cell_type": "code",
   "execution_count": 51,
   "metadata": {},
   "outputs": [
    {
     "name": "stdout",
     "output_type": "stream",
     "text": [
      "[[19139  8853]\n",
      " [ 8771 19494]]\n",
      "             precision    recall  f1-score   support\n",
      "\n",
      "          0       0.69      0.68      0.68     27992\n",
      "          1       0.69      0.69      0.69     28265\n",
      "\n",
      "avg / total       0.69      0.69      0.69     56257\n",
      "\n"
     ]
    }
   ],
   "source": [
    "Dtree = tree.DecisionTreeClassifier(random_state = 123, max_depth = 13, min_samples_leaf = 13)\n",
    "Dtree = Dtree.fit(X_train, y_train) \n",
    "y_pred_D = Dtree.predict(X_test)\n",
    "\n",
    "\n",
    "print(metrics.confusion_matrix(y_test,y_pred_D))\n",
    "print(metrics.classification_report(y_test, y_pred_D))\n"
   ]
  },
  {
   "cell_type": "code",
   "execution_count": 52,
   "metadata": {},
   "outputs": [
    {
     "name": "stdout",
     "output_type": "stream",
     "text": [
      "AUC: 0.6867089789673296\n"
     ]
    },
    {
     "data": {
      "image/png": "[encoded data removed]",
      "text/plain": [
       "<Figure size 432x288 with 1 Axes>"
      ]
     },
     "metadata": {
      "needs_background": "light"
     },
     "output_type": "display_data"
    }
   ],
   "source": [
    "fpr_D, tpr_D, thresholds = metrics.roc_curve(y_test, y_pred_D)\n",
    "print('AUC:',metrics.auc(fpr_D, tpr_D))\n",
    "auc_D = np.trapz(tpr_D,fpr_D)\n",
    "plt.plot(fpr_D,tpr_D,label=\" auc=\"+str(auc_D))\n",
    "plt.legend(loc=4)\n",
    "plt.title('ROC for Decision Trees')\n",
    "plt.show()"
   ]
  },
  {
   "cell_type": "code",
   "execution_count": 53,
   "metadata": {},
   "outputs": [
    {
     "data": {
      "text/html": [
       "<div>\n",
       "<style scoped>\n",
       "    .dataframe tbody tr th:only-of-type {\n",
       "        vertical-align: middle;\n",
       "    }\n",
       "\n",
       "    .dataframe tbody tr th {\n",
       "        vertical-align: top;\n",
       "    }\n",
       "\n",
       "    .dataframe thead th {\n",
       "        text-align: right;\n",
       "    }\n",
       "</style>\n",
       "<table border=\"1\" class=\"dataframe\">\n",
       "  <thead>\n",
       "    <tr style=\"text-align: right;\">\n",
       "      <th></th>\n",
       "      <th>importance</th>\n",
       "    </tr>\n",
       "  </thead>\n",
       "  <tbody>\n",
       "    <tr>\n",
       "      <th>OCCUPATION_COMPUTER</th>\n",
       "      <td>0.417646</td>\n",
       "    </tr>\n",
       "    <tr>\n",
       "      <th>PREVAILING_WAGE</th>\n",
       "      <td>0.202524</td>\n",
       "    </tr>\n",
       "    <tr>\n",
       "      <th>YEAR_2011</th>\n",
       "      <td>0.170619</td>\n",
       "    </tr>\n",
       "    <tr>\n",
       "      <th>YEAR_2012</th>\n",
       "      <td>0.091470</td>\n",
       "    </tr>\n",
       "    <tr>\n",
       "      <th>EMPLOYER_TYPE_UNIVERSITY</th>\n",
       "      <td>0.015278</td>\n",
       "    </tr>\n",
       "    <tr>\n",
       "      <th>OCCUPATION_ADVANCE SCIENCE</th>\n",
       "      <td>0.012279</td>\n",
       "    </tr>\n",
       "    <tr>\n",
       "      <th>YEAR_2013</th>\n",
       "      <td>0.009344</td>\n",
       "    </tr>\n",
       "    <tr>\n",
       "      <th>FULL_TIME_POSITION_N</th>\n",
       "      <td>0.008151</td>\n",
       "    </tr>\n",
       "    <tr>\n",
       "      <th>YEAR_2016</th>\n",
       "      <td>0.007508</td>\n",
       "    </tr>\n",
       "    <tr>\n",
       "      <th>FULL_TIME_POSITION_Y</th>\n",
       "      <td>0.006830</td>\n",
       "    </tr>\n",
       "  </tbody>\n",
       "</table>\n",
       "</div>"
      ],
      "text/plain": [
       "                            importance\n",
       "OCCUPATION_COMPUTER           0.417646\n",
       "PREVAILING_WAGE               0.202524\n",
       "YEAR_2011                     0.170619\n",
       "YEAR_2012                     0.091470\n",
       "EMPLOYER_TYPE_UNIVERSITY      0.015278\n",
       "OCCUPATION_ADVANCE SCIENCE    0.012279\n",
       "YEAR_2013                     0.009344\n",
       "FULL_TIME_POSITION_N          0.008151\n",
       "YEAR_2016                     0.007508\n",
       "FULL_TIME_POSITION_Y          0.006830"
      ]
     },
     "execution_count": 53,
     "metadata": {},
     "output_type": "execute_result"
    }
   ],
   "source": [
    "feature_importances_Dtree = pd.DataFrame(Dtree.feature_importances_,\n",
    "                                   index = X_train.columns,\n",
    "                                    columns=['importance']).sort_values('importance',ascending=False)\n",
    "\n",
    "feature_importances_Dtree.head(10)"
   ]
  },
  {
   "cell_type": "markdown",
   "metadata": {},
   "source": [
    "For Random Tree, I increased the n_estimators to 100, and changed the max_depth to 14. The precision, recall, F1-score both increased to 0.69. And the AUC also increased to 0.692. \n",
    "\n",
    "The top 5 important features didn't change."
   ]
  },
  {
   "cell_type": "code",
   "execution_count": 54,
   "metadata": {},
   "outputs": [
    {
     "name": "stdout",
     "output_type": "stream",
     "text": [
      "[[19376  8616]\n",
      " [ 8700 19565]]\n",
      "             precision    recall  f1-score   support\n",
      "\n",
      "          0       0.69      0.69      0.69     27992\n",
      "          1       0.69      0.69      0.69     28265\n",
      "\n",
      "avg / total       0.69      0.69      0.69     56257\n",
      "\n"
     ]
    }
   ],
   "source": [
    "rf = RandomForestClassifier(n_estimators = 100, max_depth = 14, random_state = 123)\n",
    "rf.fit(X_train, y_train)\n",
    "\n",
    "y_pred_rf =  rf.predict(X_test)\n",
    "\n",
    "print(metrics.confusion_matrix(y_test,y_pred_rf))\n",
    "print(metrics.classification_report(y_test, y_pred_rf))"
   ]
  },
  {
   "cell_type": "code",
   "execution_count": 55,
   "metadata": {},
   "outputs": [
    {
     "name": "stdout",
     "output_type": "stream",
     "text": [
      "AUC: 0.6921983016349924\n"
     ]
    },
    {
     "data": {
      "image/png": "[encoded data removed]",
      "text/plain": [
       "<Figure size 432x288 with 1 Axes>"
      ]
     },
     "metadata": {
      "needs_background": "light"
     },
     "output_type": "display_data"
    }
   ],
   "source": [
    "fpr_rf, tpr_rf, thresholds = metrics.roc_curve(y_test, y_pred_rf)\n",
    "print('AUC:',metrics.auc(fpr_rf, tpr_rf))\n",
    "auc_rf = np.trapz(tpr_rf,fpr_rf)\n",
    "plt.plot(fpr_rf,tpr_rf,label=\" auc=\"+str(auc_rf))\n",
    "plt.legend(loc=4)\n",
    "plt.title('ROC for Random Forest')\n",
    "plt.show()"
   ]
  },
  {
   "cell_type": "code",
   "execution_count": 56,
   "metadata": {},
   "outputs": [
    {
     "data": {
      "text/html": [
       "<div>\n",
       "<style scoped>\n",
       "    .dataframe tbody tr th:only-of-type {\n",
       "        vertical-align: middle;\n",
       "    }\n",
       "\n",
       "    .dataframe tbody tr th {\n",
       "        vertical-align: top;\n",
       "    }\n",
       "\n",
       "    .dataframe thead th {\n",
       "        text-align: right;\n",
       "    }\n",
       "</style>\n",
       "<table border=\"1\" class=\"dataframe\">\n",
       "  <thead>\n",
       "    <tr style=\"text-align: right;\">\n",
       "      <th></th>\n",
       "      <th>importance</th>\n",
       "    </tr>\n",
       "  </thead>\n",
       "  <tbody>\n",
       "    <tr>\n",
       "      <th>OCCUPATION_COMPUTER</th>\n",
       "      <td>0.229829</td>\n",
       "    </tr>\n",
       "    <tr>\n",
       "      <th>PREVAILING_WAGE</th>\n",
       "      <td>0.208385</td>\n",
       "    </tr>\n",
       "    <tr>\n",
       "      <th>YEAR_2011</th>\n",
       "      <td>0.156846</td>\n",
       "    </tr>\n",
       "    <tr>\n",
       "      <th>OCCUPATION_OTHER</th>\n",
       "      <td>0.083195</td>\n",
       "    </tr>\n",
       "    <tr>\n",
       "      <th>YEAR_2016</th>\n",
       "      <td>0.070531</td>\n",
       "    </tr>\n",
       "    <tr>\n",
       "      <th>YEAR_2015</th>\n",
       "      <td>0.041978</td>\n",
       "    </tr>\n",
       "    <tr>\n",
       "      <th>YEAR_2012</th>\n",
       "      <td>0.036135</td>\n",
       "    </tr>\n",
       "    <tr>\n",
       "      <th>YEAR_2014</th>\n",
       "      <td>0.016300</td>\n",
       "    </tr>\n",
       "    <tr>\n",
       "      <th>FULL_TIME_POSITION_N</th>\n",
       "      <td>0.016118</td>\n",
       "    </tr>\n",
       "    <tr>\n",
       "      <th>FULL_TIME_POSITION_Y</th>\n",
       "      <td>0.013579</td>\n",
       "    </tr>\n",
       "  </tbody>\n",
       "</table>\n",
       "</div>"
      ],
      "text/plain": [
       "                      importance\n",
       "OCCUPATION_COMPUTER     0.229829\n",
       "PREVAILING_WAGE         0.208385\n",
       "YEAR_2011               0.156846\n",
       "OCCUPATION_OTHER        0.083195\n",
       "YEAR_2016               0.070531\n",
       "YEAR_2015               0.041978\n",
       "YEAR_2012               0.036135\n",
       "YEAR_2014               0.016300\n",
       "FULL_TIME_POSITION_N    0.016118\n",
       "FULL_TIME_POSITION_Y    0.013579"
      ]
     },
     "execution_count": 56,
     "metadata": {},
     "output_type": "execute_result"
    }
   ],
   "source": [
    "import pandas as pd\n",
    "feature_importances_rf = pd.DataFrame(rf.feature_importances_,\n",
    "                                   index = X_train.columns,\n",
    "                                    columns=['importance']).sort_values('importance',ascending=False)\n",
    "\n",
    "feature_importances_rf.head(10)"
   ]
  },
  {
   "cell_type": "markdown",
   "metadata": {},
   "source": [
    "## 5. Conclusions and Discussion"
   ]
  },
  {
   "cell_type": "markdown",
   "metadata": {},
   "source": [
    "This report applied three models to identify the important factors that influence the final status of H1-B visa petitions and also tried to predict the final outcome of H1-B visa petitions.\n",
    "\n",
    "The most important part in this report is selecting independent variables and feature engineering. The target variable is the 'CASE_STATUS' where Certified = 1 and Denied = 0. The independent variables includes 'FULL_TIME_POSITION', 'PREVAILING_WAGE', 'YEAR', 'EMPLOYER_TYPE', 'OCCUPATION', 'STATE'. Among these variables, 'EMPLOYER_TYPE' was created from 'EMPLOYER_NAME'. All the strings in 'EMPLOYER_NAME' that contains 'UNIVERSITY' had 'UNIVERSITY' as value in the 'EMPLOYER_TYPE' column. And the remaining ones were filled with 'COMPANY'. 'OCCUPATION' is a categorical variable which contains important information from 'SOC_NAME'. 'STATE' was extracted from the 'WORKSITE' variable.\n",
    "\n",
    "To deal with the imbalanced problem, I utilized downsampling method to randomly resample without replacement from the 'Certified' class to create a new subset of observation equal in size to the 'Denied' class. Then I split it into training and test set.\n",
    "\n",
    "In the modeling part, since it is a supervised binary classification problem, the first model I chose is Naive Bayes Model. It can be found that the precision for this model is 0.75 on average. The recall is only 0.51 and the F1-score is barely 0.36. More importantly, the AUC for this model is only 0.51.\n",
    "\n",
    "Decision Trees is the second model. Initially, the precision, recall, and F1-score for this model are all 0.67 on average. Meantime, the ROC curve below shows that the AUC is 0.67. Compared with the first model, it performs much better. I also showed tha feature importance. It can be found that 'PREVAILING_WAGE', 'OCCUPATION_COMPUTER', 'YEAR_2011', 'YEAR_2012', 'STATE_CALIFORNIA' are the top 5 important features. I tried to tune it by changing the max_depth and min_sample_leaf to 13, After tuning, according to the confusion matrix and classification report, the precision, recall, and F1-score for this model are 0.687 . The AUC increased to 0.686. 'OCCUPATION_COMPUTER', 'PREVAILING_WAGE', 'YEAR_2011', 'YEAR_2012', 'OCCUPATION_OTHER', 'YEAR_2016' are the top 5 important features. Compared with the first model, it performs much better. \n",
    "\n",
    "From experience, random forest based on many decision trees and each of these decision tree takes a subset of independent variables randomly. In this way, the diversity increases and a more robust prediction result can be achieved. However, the precision, recall, F1-score and the AUC didn't improve much. I tried to tune it by increasing the n_estimators to 100, and changing the max_depth to 14. The precision, recall, F1-score both increased to 0.69. And the AUC also increased to 0.692. Different from the decision trees, 'PREVAILING_WAGE', 'OCCUPATION_COMPUTER', 'YEAR_2011', 'OCCUPATION_OTHER', 'YEAR_2016' are the top 5 important features. Random forest has the best performance.\n",
    "\n",
    "In future, I will try to modify the feature engineering by extracting as much information as I can from the features to make the model more accurate and robust. I will also try to use oversampling method to incrase the sample size. Last but not least, I will try other classification methods such as Extreme Gradient Boosting to increase the predicting power. \n"
   ]
  },
  {
   "cell_type": "code",
   "execution_count": 57,
   "metadata": {},
   "outputs": [
    {
     "name": "stdout",
     "output_type": "stream",
     "text": [
      "AUC: 0.5100923417152822\n"
     ]
    },
    {
     "data": {
      "image/png": "[encoded data removed]",
      "text/plain": [
       "<Figure size 432x288 with 1 Axes>"
      ]
     },
     "metadata": {
      "needs_background": "light"
     },
     "output_type": "display_data"
    }
   ],
   "source": [
    "fpr_NB, tpr_NB, thresholds = metrics.roc_curve(y_test, y_pred_NB)\n",
    "print('AUC:',metrics.auc(fpr_NB, tpr_NB))\n",
    "auc_NB = np.trapz(tpr_NB,fpr_NB)\n",
    "plt.plot(fpr_NB,tpr_NB,label=\" auc=\"+str(auc_NB))\n",
    "plt.legend(loc=4)\n",
    "plt.title('ROC for Naive Bayes')\n",
    "plt.show()"
   ]
  },
  {
   "cell_type": "code",
   "execution_count": 58,
   "metadata": {},
   "outputs": [
    {
     "name": "stdout",
     "output_type": "stream",
     "text": [
      "AUC: 0.6867089789673296\n"
     ]
    },
    {
     "data": {
      "image/png": "[encoded data removed]",
      "text/plain": [
       "<Figure size 432x288 with 1 Axes>"
      ]
     },
     "metadata": {
      "needs_background": "light"
     },
     "output_type": "display_data"
    }
   ],
   "source": [
    "fpr_D, tpr_D, thresholds = metrics.roc_curve(y_test, y_pred_D)\n",
    "print('AUC:',metrics.auc(fpr_D, tpr_D))\n",
    "auc_D = np.trapz(tpr_D,fpr_D)\n",
    "plt.plot(fpr_D,tpr_D,label=\" auc=\"+str(auc_D))\n",
    "plt.legend(loc=4)\n",
    "plt.title('ROC for Decision Trees')\n",
    "plt.show()"
   ]
  },
  {
   "cell_type": "code",
   "execution_count": 59,
   "metadata": {},
   "outputs": [
    {
     "name": "stdout",
     "output_type": "stream",
     "text": [
      "AUC: 0.6921983016349924\n"
     ]
    },
    {
     "data": {
      "image/png": "[encoded data removed]",
      "text/plain": [
       "<Figure size 432x288 with 1 Axes>"
      ]
     },
     "metadata": {
      "needs_background": "light"
     },
     "output_type": "display_data"
    }
   ],
   "source": [
    "fpr_rf, tpr_rf, thresholds = metrics.roc_curve(y_test, y_pred_rf)\n",
    "print('AUC:',metrics.auc(fpr_rf, tpr_rf))\n",
    "auc_rf = np.trapz(tpr_rf,fpr_rf)\n",
    "plt.plot(fpr_rf,tpr_rf,label=\" auc=\"+str(auc_rf))\n",
    "plt.legend(loc=4)\n",
    "plt.title('ROC for Random Forest')\n",
    "plt.show()"
   ]
  },
  {
   "cell_type": "markdown",
   "metadata": {},
   "source": [
    "## Reference"
   ]
  },
  {
   "cell_type": "markdown",
   "metadata": {},
   "source": [
    "https://www.kaggle.com/nsharan/h-1b-visa\n",
    "\n",
    "https://elitedatascience.com/imbalanced-classes\n",
    "\n",
    "https://www.analyticsvidhya.com/blog/2015/06/tuning-random-forest-model/\n",
    "\n",
    "https://medium.com/@mohtedibf/indepth-parameter-tuning-for-decision-tree-6753118a03c3\n",
    "\n",
    "https://www.kaggle.com/nmcuong81/h1-b-analysis-and-predictions\n"
   ]
  },
  {
   "cell_type": "code",
   "execution_count": null,
   "metadata": {},
   "outputs": [],
   "source": []
  }
 ],
 "metadata": {
  "kernelspec": {
   "display_name": "Python 3",
   "language": "python",
   "name": "python3"
  },
  "language_info": {
   "codemirror_mode": {
    "name": "ipython",
    "version": 3
   },
   "file_extension": ".py",
   "mimetype": "text/x-python",
   "name": "python",
   "nbconvert_exporter": "python",
   "pygments_lexer": "ipython3",
   "version": "3.6.8"
  }
 },
 "nbformat": 4,
 "nbformat_minor": 2
}
